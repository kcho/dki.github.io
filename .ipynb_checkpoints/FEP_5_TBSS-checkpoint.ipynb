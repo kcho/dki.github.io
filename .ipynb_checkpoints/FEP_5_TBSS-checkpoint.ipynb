{
 "metadata": {
  "name": ""
 },
 "nbformat": 3,
 "nbformat_minor": 0,
 "worksheets": [
  {
   "cells": [
    {
     "cell_type": "heading",
     "level": 1,
     "metadata": {},
     "source": [
      "Running TBSS on diffusion and kurtosis data"
     ]
    },
    {
     "cell_type": "heading",
     "level": 2,
     "metadata": {},
     "source": [
      "Load libraries"
     ]
    },
    {
     "cell_type": "code",
     "collapsed": false,
     "input": [
      "import os\n",
      "import pandas as pd\n",
      "import re\n",
      "import shutil\n",
      "\n",
      "pd.set_option('max_rows',10000)\n",
      "pd.set_option('max_columns',10000)\n",
      "pd.options.display.mpl_style = 'default'"
     ],
     "language": "python",
     "metadata": {},
     "outputs": [],
     "prompt_number": 14
    },
    {
     "cell_type": "heading",
     "level": 2,
     "metadata": {},
     "source": [
      "Load matched subjects"
     ]
    },
    {
     "cell_type": "code",
     "collapsed": false,
     "input": [
      "matchedDf = pd.read_csv(\"/Users/admin/Dropbox/project/DKI_2014/demographics/matchedFEP.csv\")"
     ],
     "language": "python",
     "metadata": {},
     "outputs": [],
     "prompt_number": 15
    },
    {
     "cell_type": "heading",
     "level": 2,
     "metadata": {},
     "source": [
      "Load all subject list"
     ]
    },
    {
     "cell_type": "code",
     "collapsed": false,
     "input": [
      "processedList=os.listdir(\"/Volumes/CCNC_3T/KangIk/2014_05_DKI_project\")"
     ],
     "language": "python",
     "metadata": {},
     "outputs": [],
     "prompt_number": 17
    },
    {
     "cell_type": "heading",
     "level": 2,
     "metadata": {},
     "source": [
      "Select matched subjects only"
     ]
    },
    {
     "cell_type": "code",
     "collapsed": false,
     "input": [
      "toMove=[]\n",
      "for i in processedList:\n",
      "    for j in matchedDf['index'].tolist():\n",
      "        if re.search(j,i):\n",
      "            toMove.append(i)"
     ],
     "language": "python",
     "metadata": {},
     "outputs": [],
     "prompt_number": 19
    },
    {
     "cell_type": "heading",
     "level": 2,
     "metadata": {},
     "source": [
      "Number of subjects"
     ]
    },
    {
     "cell_type": "code",
     "collapsed": false,
     "input": [
      "print 'NOR', len([x for x in toMove if x.startswith('NOR')])\n",
      "print 'FEP', len([x for x in toMove if x.startswith('FEP')])"
     ],
     "language": "python",
     "metadata": {},
     "outputs": [
      {
       "output_type": "stream",
       "stream": "stdout",
       "text": [
        "NOR 36\n",
        "FEP 37\n"
       ]
      }
     ],
     "prompt_number": 20
    },
    {
     "cell_type": "heading",
     "level": 2,
     "metadata": {},
     "source": [
      "Copy images"
     ]
    },
    {
     "cell_type": "markdown",
     "metadata": {},
     "source": [
      "    !mkdir /Volumes/CCNC_3T/KangIk/2014_05_DKI_project/TBSS"
     ]
    },
    {
     "cell_type": "markdown",
     "metadata": {},
     "source": [
      "    for i in toMove:\n",
      "        shutil.copy2(os.path.join(i,'DKI/kmean.nii'),\n",
      "                     os.path.join('TBSS/kmean',i+\"_fa_dti.nii\"))\n",
      "    "
     ]
    },
    {
     "cell_type": "heading",
     "level": 3,
     "metadata": {},
     "source": [
      "name change"
     ]
    },
    {
     "cell_type": "markdown",
     "metadata": {},
     "source": [
      "    for i in os.listdir(os.getcwd()):\n",
      "        trgName =  i[:i.index('fa_dti.nii')]+\"_\"+i[i.index('fa_dti.nii'):]\n",
      "        shutil.move(i,trgName)\n",
      "    "
     ]
    },
    {
     "cell_type": "code",
     "collapsed": false,
     "input": [],
     "language": "python",
     "metadata": {},
     "outputs": []
    }
   ],
   "metadata": {}
  }
 ]
}