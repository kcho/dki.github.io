{
 "metadata": {
  "name": ""
 },
 "nbformat": 3,
 "nbformat_minor": 0,
 "worksheets": [
  {
   "cells": [
    {
     "cell_type": "code",
     "collapsed": false,
     "input": [
      "from IPython.display import Image\n",
      "from IPython.display import HTML\n",
      "import os\n",
      "import pandas as pd\n",
      "import re\n",
      "from rpy2.robjects.lib import ggplot2\n",
      "import matplotlib.pyplot as plt\n",
      "\n",
      "from ggplot import *\n",
      "\n",
      "pd.set_option('max_rows',10000)\n",
      "pd.set_option('max_columns',10000)\n",
      "pd.options.display.mpl_style = 'default'\n",
      "\n",
      "%load_ext rmagic\n",
      "\n",
      "%R require(ggplot2)\n",
      "\n",
      "#stats\n",
      "from statsmodels.formula.api import ols\n",
      "from statsmodels.stats.anova import anova_lm"
     ],
     "language": "python",
     "metadata": {},
     "outputs": [],
     "prompt_number": 1
    },
    {
     "cell_type": "heading",
     "level": 1,
     "metadata": {},
     "source": [
      "Load BM demo"
     ]
    },
    {
     "cell_type": "code",
     "collapsed": false,
     "input": [
      "excelFile = pd.ExcelFile(\"/Users/admin/Dropbox/project/DKI_2014/demographics/without_C_RJY.xlsx\")\n",
      "demoDf = excelFile.parse(0)\n",
      "demoDf = demoDf.dropna(axis=1,how='all')\n",
      "demoDf.index.name='name'\n",
      "demoDf = demoDf.drop('name')"
     ],
     "language": "python",
     "metadata": {},
     "outputs": [],
     "prompt_number": 2
    },
    {
     "cell_type": "heading",
     "level": 1,
     "metadata": {},
     "source": [
      "Loading the outcomes"
     ]
    },
    {
     "cell_type": "code",
     "collapsed": false,
     "input": [
      "#subjects from the demographic excel file\n",
      "demoSubjects = [x.encode('utf-8') for x in demoDf.index.tolist()]"
     ],
     "language": "python",
     "metadata": {},
     "outputs": [],
     "prompt_number": 3
    },
    {
     "cell_type": "code",
     "collapsed": false,
     "input": [
      "#subjects list from the analysis directory\n",
      "dataSubjects= [(x[3:],x) for x in os.listdir('/Volumes/CCNC_3T/KangIk/2014_05_DKI_project') if re.match('\\d',x)]\n",
      "#if in the demoTable & in the data directory\n",
      "subjects = [subjDirTuple[1] for subjDirTuple in dataSubjects if subjDirTuple[0] in demoSubjects]\n",
      "spdSubjects = [x for x in subjects if re.search('(-|_)T(-|_)',x)]\n",
      "conSubjects = [x for x in subjects if re.search('(-|_)C(-|_)',x)]"
     ],
     "language": "python",
     "metadata": {},
     "outputs": [],
     "prompt_number": 4
    },
    {
     "cell_type": "code",
     "collapsed": false,
     "input": [
      "for i in subjects:\n",
      "    print i,"
     ],
     "language": "python",
     "metadata": {},
     "outputs": [
      {
       "output_type": "stream",
       "stream": "stdout",
       "text": [
        "00_C_LHS 01_C_JJW 01_T_IKB 02_C_JJH 02_T_KPY 03_C_KTH 03_T_JJH 04_C_LMH 04_T_CHI 05_C_YYJ 05_T_BSH 06_C_SER 06_T_KSJ 07_C_HSY 07_T_KSM 08_C_HEA 08_T_KK 09_C_KJW 09_T_KYJ 10_C_KJS 10_T_JES 11_C_CBH 11_T_LYB 12_C_BJM 12_T_KKY 13_C_KSH 13_T_KHK 14_C_HMK 14_T_CKW 15_C_LYJ 16_C_LKB 16_T_LSW 17_C_YJH 17_T_HSM 18_C_KDY 18_T_JYS 19_C_BHW 19_T_SKH 20_C_KJB 20_T_SCH 21_C_LJY 21_T_ANG 22_C_LJW 22_T_PI 23_T_KSH 24_C_IYS 24_T_PCY 25_T_TK 26_C_PJH 26_T_YJG 27_C_LSH 27_T_SK 28_C_KCH 28_T_SSH 29_T_HSA 30_C_LJJ 30_T_YJ 31_C_KHP 31_T_HS 32_C_LJH 33_C_JHS 34_C_SGR 35_C_AJH 36_C_LDH 37_C_PJI 38_C_YKH\n"
       ]
      }
     ],
     "prompt_number": 5
    },
    {
     "cell_type": "heading",
     "level": 4,
     "metadata": {},
     "source": [
      "SPD subjects"
     ]
    },
    {
     "cell_type": "code",
     "collapsed": false,
     "input": [
      "len(spdSubjects)"
     ],
     "language": "python",
     "metadata": {},
     "outputs": [
      {
       "metadata": {},
       "output_type": "pyout",
       "prompt_number": 6,
       "text": [
        "30"
       ]
      }
     ],
     "prompt_number": 6
    },
    {
     "cell_type": "heading",
     "level": 4,
     "metadata": {},
     "source": [
      "HCs"
     ]
    },
    {
     "cell_type": "code",
     "collapsed": false,
     "input": [
      "len(conSubjects)"
     ],
     "language": "python",
     "metadata": {},
     "outputs": [
      {
       "metadata": {},
       "output_type": "pyout",
       "prompt_number": 7,
       "text": [
        "36"
       ]
      }
     ],
     "prompt_number": 7
    },
    {
     "cell_type": "heading",
     "level": 3,
     "metadata": {},
     "source": [
      "Collection"
     ]
    },
    {
     "cell_type": "code",
     "collapsed": false,
     "input": [
      "meanDf = {}\n",
      "axialDf = {}\n",
      "radialDf = {}"
     ],
     "language": "python",
     "metadata": {},
     "outputs": [],
     "prompt_number": 8
    },
    {
     "cell_type": "code",
     "collapsed": false,
     "input": [
      "meanDf = {}\n",
      "axialDf = {}\n",
      "radialDf = {}\n",
      "for subject in subjects:\n",
      "    df = pd.read_csv(os.path.join(\n",
      "                                 '/Volumes/CCNC_3T/KangIk/2014_05_DKI_project',\n",
      "                                 subject,\n",
      "                                 'DKI',\n",
      "                                 'mean.txt'),\n",
      "                    sep='\\s+',\n",
      "                    names=['modality','ROI','kurtosis','voxel','volume'])\n",
      "    df['subject'] = subject\n",
      "    df['isSPD'] = df.subject.map(lambda x:re.search('(-|_)T(-|_)',x)).notnull()\n",
      "    df['group'] = df.isSPD.map({True:'SPD',False:'HCs'})\n",
      "        \n",
      "    print subject, '\\t', len(df[df['kurtosis']!=0])\n",
      "    newDf = df[df['kurtosis']!=0][['subject','group','ROI','kurtosis','voxel','volume','modality']]\n",
      "\n",
      "    nonZero = newDf[newDf['kurtosis']!=0]\n",
      "\n",
      "        \n",
      "    meanDf[subject] = newDf[newDf['modality']=='kmean.nii']\n",
      "    axialDf[subject] = newDf[newDf['modality']=='kax.nii']\n",
      "    radialDf[subject] = newDf[newDf['modality']=='krad.nii']\n",
      "    \n",
      "meanDf = pd.concat([x for x in meanDf.values()],axis=0)\n",
      "axialDf = pd.concat([x for x in axialDf.values()],axis=0)\n",
      "radialDf = pd.concat([x for x in radialDf.values()],axis=0)"
     ],
     "language": "python",
     "metadata": {},
     "outputs": [
      {
       "output_type": "stream",
       "stream": "stdout",
       "text": [
        "00_C_LHS \t369\n",
        "01_C_JJW \t369\n",
        "01_T_IKB \t369\n",
        "02_C_JJH \t372\n",
        "02_T_KPY \t369\n",
        "03_C_KTH \t369"
       ]
      },
      {
       "output_type": "stream",
       "stream": "stdout",
       "text": [
        "\n",
        "03_T_JJH \t366\n",
        "04_C_LMH \t372\n",
        "04_T_CHI \t366\n",
        "05_C_YYJ \t372\n",
        "05_T_BSH \t366\n",
        "06_C_SER"
       ]
      },
      {
       "output_type": "stream",
       "stream": "stdout",
       "text": [
        " \t372\n",
        "06_T_KSJ \t366\n",
        "07_C_HSY \t369\n",
        "07_T_KSM \t369\n",
        "08_C_HEA \t369\n",
        "08_T_KK \t372\n",
        "09_C_KJW"
       ]
      },
      {
       "output_type": "stream",
       "stream": "stdout",
       "text": [
        " \t366\n",
        "09_T_KYJ \t369\n",
        "10_C_KJS \t372\n",
        "10_T_JES \t363\n",
        "11_C_CBH \t363\n",
        "11_T_LYB \t366\n",
        "12_C_BJM"
       ]
      },
      {
       "output_type": "stream",
       "stream": "stdout",
       "text": [
        " \t366\n",
        "12_T_KKY \t369\n",
        "13_C_KSH \t369\n",
        "13_T_KHK \t366\n",
        "14_C_HMK \t366\n",
        "14_T_CKW \t369\n",
        "15_C_LYJ"
       ]
      },
      {
       "output_type": "stream",
       "stream": "stdout",
       "text": [
        " \t372\n",
        "16_C_LKB \t369\n",
        "16_T_LSW \t369\n",
        "17_C_YJH \t366\n",
        "17_T_HSM \t366\n",
        "18_C_KDY \t369\n",
        "18_T_JYS"
       ]
      },
      {
       "output_type": "stream",
       "stream": "stdout",
       "text": [
        " \t369\n",
        "19_C_BHW \t369\n",
        "19_T_SKH \t366\n",
        "20_C_KJB \t369\n",
        "20_T_SCH \t366\n",
        "21_C_LJY \t369\n",
        "21_T_ANG"
       ]
      },
      {
       "output_type": "stream",
       "stream": "stdout",
       "text": [
        " \t372\n",
        "22_C_LJW \t369\n",
        "22_T_PI \t372\n",
        "23_T_KSH \t369\n",
        "24_C_IYS \t369\n",
        "24_T_PCY \t372\n",
        "25_T_TK"
       ]
      },
      {
       "output_type": "stream",
       "stream": "stdout",
       "text": [
        " \t372\n",
        "26_C_PJH \t369\n",
        "26_T_YJG \t369\n",
        "27_C_LSH \t363\n",
        "27_T_SK \t366\n",
        "28_C_KCH \t372\n",
        "28_T_SSH"
       ]
      },
      {
       "output_type": "stream",
       "stream": "stdout",
       "text": [
        " \t369\n",
        "29_T_HSA \t369\n",
        "30_C_LJJ \t366\n",
        "30_T_YJ \t369\n",
        "31_C_KHP \t369\n",
        "31_T_HS \t369\n",
        "32_C_LJH"
       ]
      },
      {
       "output_type": "stream",
       "stream": "stdout",
       "text": [
        " \t366\n",
        "33_C_JHS \t369\n",
        "34_C_SGR \t366\n",
        "35_C_AJH \t366\n",
        "36_C_LDH \t369\n",
        "37_C_PJI \t363\n",
        "38_C_YKH"
       ]
      },
      {
       "output_type": "stream",
       "stream": "stdout",
       "text": [
        " \t366\n"
       ]
      }
     ],
     "prompt_number": 10
    },
    {
     "cell_type": "heading",
     "level": 1,
     "metadata": {},
     "source": [
      "Volumes"
     ]
    },
    {
     "cell_type": "heading",
     "level": 4,
     "metadata": {},
     "source": [
      "ROIs that start with 'CTX'"
     ]
    },
    {
     "cell_type": "code",
     "collapsed": false,
     "input": [
      "allCorticalROIs = meanDf.ROI[meanDf.ROI.str.startswith('dki_ctx')].drop_duplicates().values.tolist()"
     ],
     "language": "python",
     "metadata": {},
     "outputs": [],
     "prompt_number": 16
    },
    {
     "cell_type": "code",
     "collapsed": false,
     "input": [
      "for roi in allCorticalROIs:\n",
      "    compare(meanDf,roi)"
     ],
     "language": "python",
     "metadata": {},
     "outputs": [
      {
       "output_type": "stream",
       "stream": "stdout",
       "text": [
        "dki_ctx-lh-superiortemporal.nii.gz \t\t kurtosis~GROUP\n",
        "=========\n",
        "          df    sum_sq   mean_sq         F    PR(>F)\n",
        "GROUP      1  0.002516  0.002516  4.470641  0.038383\n",
        "Residual  64  0.036016  0.000563       NaN       NaN\n",
        "\n",
        "\n",
        "\n",
        "\n"
       ]
      },
      {
       "html": [
        "<div style=\"max-height:1000px;max-width:1500px;overflow:auto;\">\n",
        "<table border=\"1\" class=\"dataframe\">\n",
        "  <thead>\n",
        "    <tr>\n",
        "      <th>group</th>\n",
        "      <th colspan=\"8\" halign=\"left\">HCs</th>\n",
        "      <th colspan=\"8\" halign=\"left\">SPD</th>\n",
        "    </tr>\n",
        "    <tr>\n",
        "      <th></th>\n",
        "      <th>count</th>\n",
        "      <th>mean</th>\n",
        "      <th>std</th>\n",
        "      <th>min</th>\n",
        "      <th>25%</th>\n",
        "      <th>50%</th>\n",
        "      <th>75%</th>\n",
        "      <th>max</th>\n",
        "      <th>count</th>\n",
        "      <th>mean</th>\n",
        "      <th>std</th>\n",
        "      <th>min</th>\n",
        "      <th>25%</th>\n",
        "      <th>50%</th>\n",
        "      <th>75%</th>\n",
        "      <th>max</th>\n",
        "    </tr>\n",
        "  </thead>\n",
        "  <tbody>\n",
        "    <tr>\n",
        "      <th>kurtosis</th>\n",
        "      <td> 36</td>\n",
        "      <td>     0.700045</td>\n",
        "      <td>    0.016047</td>\n",
        "      <td>     0.659724</td>\n",
        "      <td>     0.691335</td>\n",
        "      <td>     0.701881</td>\n",
        "      <td>     0.711382</td>\n",
        "      <td>     0.723147</td>\n",
        "      <td> 30</td>\n",
        "      <td>     0.712444</td>\n",
        "      <td>    0.030515</td>\n",
        "      <td>     0.661846</td>\n",
        "      <td>     0.69424</td>\n",
        "      <td>     0.709193</td>\n",
        "      <td>     0.725344</td>\n",
        "      <td>     0.817062</td>\n",
        "    </tr>\n",
        "    <tr>\n",
        "      <th>volume</th>\n",
        "      <td> 36</td>\n",
        "      <td> 13489.333333</td>\n",
        "      <td> 1539.558434</td>\n",
        "      <td> 10338.000000</td>\n",
        "      <td> 12937.500000</td>\n",
        "      <td> 13580.000000</td>\n",
        "      <td> 14163.000000</td>\n",
        "      <td> 17436.000000</td>\n",
        "      <td> 30</td>\n",
        "      <td> 13382.866667</td>\n",
        "      <td> 1799.183737</td>\n",
        "      <td> 10033.000000</td>\n",
        "      <td> 12452.50000</td>\n",
        "      <td> 13055.500000</td>\n",
        "      <td> 13940.750000</td>\n",
        "      <td> 18017.000000</td>\n",
        "    </tr>\n",
        "    <tr>\n",
        "      <th>voxel</th>\n",
        "      <td> 36</td>\n",
        "      <td> 13489.333333</td>\n",
        "      <td> 1539.558434</td>\n",
        "      <td> 10338.000000</td>\n",
        "      <td> 12937.500000</td>\n",
        "      <td> 13580.000000</td>\n",
        "      <td> 14163.000000</td>\n",
        "      <td> 17436.000000</td>\n",
        "      <td> 30</td>\n",
        "      <td> 13382.866667</td>\n",
        "      <td> 1799.183737</td>\n",
        "      <td> 10033.000000</td>\n",
        "      <td> 12452.50000</td>\n",
        "      <td> 13055.500000</td>\n",
        "      <td> 13940.750000</td>\n",
        "      <td> 18017.000000</td>\n",
        "    </tr>\n",
        "  </tbody>\n",
        "</table>\n",
        "</div>"
       ],
       "metadata": {},
       "output_type": "display_data",
       "text": [
        "group       HCs                                                         \\\n",
        "          count          mean          std           min           25%   \n",
        "kurtosis     36      0.700045     0.016047      0.659724      0.691335   \n",
        "volume       36  13489.333333  1539.558434  10338.000000  12937.500000   \n",
        "voxel        36  13489.333333  1539.558434  10338.000000  12937.500000   \n",
        "\n",
        "group                                                 SPD                \\\n",
        "                   50%           75%           max  count          mean   \n",
        "kurtosis      0.701881      0.711382      0.723147     30      0.712444   \n",
        "volume    13580.000000  14163.000000  17436.000000     30  13382.866667   \n",
        "voxel     13580.000000  14163.000000  17436.000000     30  13382.866667   \n",
        "\n",
        "group                                                                         \\\n",
        "                  std           min          25%           50%           75%   \n",
        "kurtosis     0.030515      0.661846      0.69424      0.709193      0.725344   \n",
        "volume    1799.183737  10033.000000  12452.50000  13055.500000  13940.750000   \n",
        "voxel     1799.183737  10033.000000  12452.50000  13055.500000  13940.750000   \n",
        "\n",
        "group                   \n",
        "                   max  \n",
        "kurtosis      0.817062  \n",
        "volume    18017.000000  \n",
        "voxel     18017.000000  "
       ]
      },
      {
       "metadata": {},
       "output_type": "display_data",
       "png": "[encoded data removed]"
      },
      {
       "output_type": "stream",
       "stream": "stdout",
       "text": [
        "dki_ctx-rh-parahippocampal.nii.gz \t\t kurtosis~GROUP\n",
        "=========\n",
        "          df    sum_sq   mean_sq         F    PR(>F)\n",
        "GROUP      1  0.012049  0.012049  6.231715  0.015134\n",
        "Residual  64  0.123749  0.001934       NaN       NaN\n",
        "\n",
        "\n",
        "\n",
        "\n"
       ]
      },
      {
       "html": [
        "<div style=\"max-height:1000px;max-width:1500px;overflow:auto;\">\n",
        "<table border=\"1\" class=\"dataframe\">\n",
        "  <thead>\n",
        "    <tr>\n",
        "      <th>group</th>\n",
        "      <th colspan=\"8\" halign=\"left\">HCs</th>\n",
        "      <th colspan=\"8\" halign=\"left\">SPD</th>\n",
        "    </tr>\n",
        "    <tr>\n",
        "      <th></th>\n",
        "      <th>count</th>\n",
        "      <th>mean</th>\n",
        "      <th>std</th>\n",
        "      <th>min</th>\n",
        "      <th>25%</th>\n",
        "      <th>50%</th>\n",
        "      <th>75%</th>\n",
        "      <th>max</th>\n",
        "      <th>count</th>\n",
        "      <th>mean</th>\n",
        "      <th>std</th>\n",
        "      <th>min</th>\n",
        "      <th>25%</th>\n",
        "      <th>50%</th>\n",
        "      <th>75%</th>\n",
        "      <th>max</th>\n",
        "    </tr>\n",
        "  </thead>\n",
        "  <tbody>\n",
        "    <tr>\n",
        "      <th>kurtosis</th>\n",
        "      <td> 36</td>\n",
        "      <td>    0.708130</td>\n",
        "      <td>   0.042106</td>\n",
        "      <td>    0.590129</td>\n",
        "      <td>    0.678775</td>\n",
        "      <td>    0.712199</td>\n",
        "      <td>    0.74346</td>\n",
        "      <td>    0.795171</td>\n",
        "      <td> 30</td>\n",
        "      <td>    0.735266</td>\n",
        "      <td>   0.046125</td>\n",
        "      <td>    0.648864</td>\n",
        "      <td>    0.70906</td>\n",
        "      <td>    0.738809</td>\n",
        "      <td>    0.7636</td>\n",
        "      <td>    0.834008</td>\n",
        "    </tr>\n",
        "    <tr>\n",
        "      <th>volume</th>\n",
        "      <td> 36</td>\n",
        "      <td> 2196.972222</td>\n",
        "      <td> 326.699555</td>\n",
        "      <td> 1641.000000</td>\n",
        "      <td> 1999.000000</td>\n",
        "      <td> 2161.000000</td>\n",
        "      <td> 2316.00000</td>\n",
        "      <td> 2898.000000</td>\n",
        "      <td> 30</td>\n",
        "      <td> 2283.700000</td>\n",
        "      <td> 598.248717</td>\n",
        "      <td> 1334.000000</td>\n",
        "      <td> 1970.50000</td>\n",
        "      <td> 2127.500000</td>\n",
        "      <td> 2424.7500</td>\n",
        "      <td> 4699.000000</td>\n",
        "    </tr>\n",
        "    <tr>\n",
        "      <th>voxel</th>\n",
        "      <td> 36</td>\n",
        "      <td> 2196.972222</td>\n",
        "      <td> 326.699555</td>\n",
        "      <td> 1641.000000</td>\n",
        "      <td> 1999.000000</td>\n",
        "      <td> 2161.000000</td>\n",
        "      <td> 2316.00000</td>\n",
        "      <td> 2898.000000</td>\n",
        "      <td> 30</td>\n",
        "      <td> 2283.700000</td>\n",
        "      <td> 598.248717</td>\n",
        "      <td> 1334.000000</td>\n",
        "      <td> 1970.50000</td>\n",
        "      <td> 2127.500000</td>\n",
        "      <td> 2424.7500</td>\n",
        "      <td> 4699.000000</td>\n",
        "    </tr>\n",
        "  </tbody>\n",
        "</table>\n",
        "</div>"
       ],
       "metadata": {},
       "output_type": "display_data",
       "text": [
        "group       HCs                                                     \\\n",
        "          count         mean         std          min          25%   \n",
        "kurtosis     36     0.708130    0.042106     0.590129     0.678775   \n",
        "volume       36  2196.972222  326.699555  1641.000000  1999.000000   \n",
        "voxel        36  2196.972222  326.699555  1641.000000  1999.000000   \n",
        "\n",
        "group                                             SPD               \\\n",
        "                  50%         75%          max  count         mean   \n",
        "kurtosis     0.712199     0.74346     0.795171     30     0.735266   \n",
        "volume    2161.000000  2316.00000  2898.000000     30  2283.700000   \n",
        "voxel     2161.000000  2316.00000  2898.000000     30  2283.700000   \n",
        "\n",
        "group                                                                  \\\n",
        "                 std          min         25%          50%        75%   \n",
        "kurtosis    0.046125     0.648864     0.70906     0.738809     0.7636   \n",
        "volume    598.248717  1334.000000  1970.50000  2127.500000  2424.7500   \n",
        "voxel     598.248717  1334.000000  1970.50000  2127.500000  2424.7500   \n",
        "\n",
        "group                  \n",
        "                  max  \n",
        "kurtosis     0.834008  \n",
        "volume    4699.000000  \n",
        "voxel     4699.000000  "
       ]
      },
      {
       "metadata": {},
       "output_type": "display_data",
       "png": "[encoded data removed]"
      }
     ],
     "prompt_number": 17
    },
    {
     "cell_type": "heading",
     "level": 4,
     "metadata": {},
     "source": [
      "Subcortex"
     ]
    },
    {
     "cell_type": "code",
     "collapsed": false,
     "input": [
      "allSubcorticalROIs = meanDf.ROI[meanDf.ROI.str.contains('dki_Right|dki_Left')].drop_duplicates().values"
     ],
     "language": "python",
     "metadata": {},
     "outputs": [],
     "prompt_number": 18
    },
    {
     "cell_type": "code",
     "collapsed": false,
     "input": [
      "for roi in allSubcorticalROIs:\n",
      "    compare(meanDf,roi)"
     ],
     "language": "python",
     "metadata": {},
     "outputs": [],
     "prompt_number": 19
    },
    {
     "cell_type": "heading",
     "level": 2,
     "metadata": {},
     "source": [
      "Group test function"
     ]
    },
    {
     "cell_type": "code",
     "collapsed": false,
     "input": [
      "def compare(df,ROI):\n",
      "    \n",
      "#    df = meanDf[meanDf.ROI=='dki_Left-Hippocampus.nii.gz']\n",
      "#    df.groupby('group').describe().T\n",
      "\n",
      "    newDf = df[df['ROI']==ROI]\n",
      "    \n",
      "\n",
      "    toCompareList = ['kurtosis','volume']\n",
      "    for toCompare in toCompareList:\n",
      "        mean = df[df['ROI']==ROI][toCompare]\n",
      "        GROUP = df[df['ROI']==ROI]['group']\n",
      "\n",
      "        formula = '{0} ~ GROUP'.format(toCompare)\n",
      "\n",
      "        lm = ols(formula, df[df['ROI']==ROI]).fit()\n",
      "\n",
      "        output=anova_lm(lm)\n",
      "        if output.ix['GROUP','PR(>F)'] < 0.05:\n",
      "            print '{0} \\t\\t {1}~GROUP'.format(ROI,toCompare)\n",
      "            print '========='\n",
      "            print output\n",
      "            print '\\n\\n\\n'\n",
      "            display(newDf.groupby('group').describe().T)\n",
      "     \n",
      "            name = ROI[4:-7]\n",
      "            \n",
      "            %R -i newDf\n",
      "            %R -i name\n",
      "            %R newDf <- as.data.frame(newDf)\n",
      "            %R library(ggplot2)\n",
      "            %R p <- ggplot(newDf, aes(group,$toCompare))\n",
      "            %R p <- p + geom_boxplot() + ggtitle(name)\n",
      "            %R print(p)\n",
      "        \n",
      "    return newDf"
     ],
     "language": "python",
     "metadata": {},
     "outputs": [],
     "prompt_number": 15
    },
    {
     "cell_type": "heading",
     "level": 2,
     "metadata": {},
     "source": [
      "Hippocampus"
     ]
    },
    {
     "cell_type": "code",
     "collapsed": false,
     "input": [
      "newDf = compare(meanDf,'dki_Right-Hippocampus.nii.gz')"
     ],
     "language": "python",
     "metadata": {},
     "outputs": [],
     "prompt_number": 22
    },
    {
     "cell_type": "code",
     "collapsed": false,
     "input": [
      "newDf = compare(meanDf,'dki_Left-Hippocampus.nii.gz')"
     ],
     "language": "python",
     "metadata": {},
     "outputs": [],
     "prompt_number": 28
    },
    {
     "cell_type": "heading",
     "level": 2,
     "metadata": {},
     "source": [
      "LPFC"
     ]
    },
    {
     "cell_type": "code",
     "collapsed": false,
     "input": [
      "newDf = compare(meanDf,'dki_lh_LPFC.nii.gz')"
     ],
     "language": "python",
     "metadata": {},
     "outputs": [],
     "prompt_number": 29
    },
    {
     "cell_type": "code",
     "collapsed": false,
     "input": [
      "newDf = compare(meanDf,'dki_rh_LPFC.nii.gz')"
     ],
     "language": "python",
     "metadata": {},
     "outputs": [],
     "prompt_number": 30
    },
    {
     "cell_type": "heading",
     "level": 2,
     "metadata": {},
     "source": [
      "MPFC"
     ]
    },
    {
     "cell_type": "code",
     "collapsed": false,
     "input": [
      "newDf = compare(meanDf,'dki_lh_MPFC.nii.gz')"
     ],
     "language": "python",
     "metadata": {},
     "outputs": [],
     "prompt_number": 31
    },
    {
     "cell_type": "code",
     "collapsed": false,
     "input": [
      "newDf = compare(meanDf,'dki_rh_MPFC.nii.gz')"
     ],
     "language": "python",
     "metadata": {},
     "outputs": [],
     "prompt_number": 32
    },
    {
     "cell_type": "heading",
     "level": 2,
     "metadata": {},
     "source": [
      "OFC"
     ]
    },
    {
     "cell_type": "code",
     "collapsed": false,
     "input": [
      "newDf = compare(meanDf,'dki_lh_OFC.nii.gz')"
     ],
     "language": "python",
     "metadata": {},
     "outputs": [],
     "prompt_number": 33
    },
    {
     "cell_type": "code",
     "collapsed": false,
     "input": [
      "newDf = compare(meanDf,'dki_rh_OFC.nii.gz')"
     ],
     "language": "python",
     "metadata": {},
     "outputs": [],
     "prompt_number": 34
    },
    {
     "cell_type": "heading",
     "level": 2,
     "metadata": {},
     "source": [
      "LTC"
     ]
    },
    {
     "cell_type": "code",
     "collapsed": false,
     "input": [
      "newDf = compare(meanDf,'dki_lh_LTC.nii.gz')"
     ],
     "language": "python",
     "metadata": {},
     "outputs": [],
     "prompt_number": 35
    },
    {
     "cell_type": "code",
     "collapsed": false,
     "input": [
      "newDf = compare(meanDf,'dki_rh_LTC.nii.gz')"
     ],
     "language": "python",
     "metadata": {},
     "outputs": [],
     "prompt_number": 36
    },
    {
     "cell_type": "heading",
     "level": 2,
     "metadata": {},
     "source": [
      "MTC"
     ]
    },
    {
     "cell_type": "code",
     "collapsed": false,
     "input": [
      "newDf = compare(meanDf,'dki_lh_MTC.nii.gz')"
     ],
     "language": "python",
     "metadata": {},
     "outputs": [],
     "prompt_number": 37
    },
    {
     "cell_type": "code",
     "collapsed": false,
     "input": [
      "newDf = compare(meanDf,'dki_rh_MTC.nii.gz')"
     ],
     "language": "python",
     "metadata": {},
     "outputs": [],
     "prompt_number": 38
    },
    {
     "cell_type": "heading",
     "level": 2,
     "metadata": {},
     "source": [
      "PC"
     ]
    },
    {
     "cell_type": "code",
     "collapsed": false,
     "input": [
      "newDf = compare(meanDf,'dki_lh_PC.nii.gz')"
     ],
     "language": "python",
     "metadata": {},
     "outputs": [],
     "prompt_number": 39
    },
    {
     "cell_type": "code",
     "collapsed": false,
     "input": [
      "newDf = compare(meanDf,'dki_rh_PC.nii.gz')"
     ],
     "language": "python",
     "metadata": {},
     "outputs": [],
     "prompt_number": 40
    },
    {
     "cell_type": "heading",
     "level": 2,
     "metadata": {},
     "source": [
      "OCC"
     ]
    },
    {
     "cell_type": "code",
     "collapsed": false,
     "input": [
      "newDf = compare(meanDf,'dki_lh_OCC.nii.gz')"
     ],
     "language": "python",
     "metadata": {},
     "outputs": [],
     "prompt_number": 41
    },
    {
     "cell_type": "code",
     "collapsed": false,
     "input": [
      "newDf = compare(meanDf,'dki_rh_OCC.nii.gz')"
     ],
     "language": "python",
     "metadata": {},
     "outputs": [],
     "prompt_number": 42
    },
    {
     "cell_type": "heading",
     "level": 2,
     "metadata": {},
     "source": [
      "SMC"
     ]
    },
    {
     "cell_type": "code",
     "collapsed": false,
     "input": [
      "newDf = compare(meanDf,'dki_lh_SMC.nii.gz')"
     ],
     "language": "python",
     "metadata": {},
     "outputs": [],
     "prompt_number": 43
    },
    {
     "cell_type": "code",
     "collapsed": false,
     "input": [
      "newDf = compare(meanDf,'dki_rh_SMC.nii.gz')"
     ],
     "language": "python",
     "metadata": {},
     "outputs": [],
     "prompt_number": 44
    },
    {
     "cell_type": "code",
     "collapsed": false,
     "input": [],
     "language": "python",
     "metadata": {},
     "outputs": [],
     "prompt_number": 44
    },
    {
     "cell_type": "code",
     "collapsed": false,
     "input": [],
     "language": "python",
     "metadata": {},
     "outputs": []
    }
   ],
   "metadata": {}
  }
 ]
}