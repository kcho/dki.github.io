{
 "metadata": {
  "name": ""
 },
 "nbformat": 3,
 "nbformat_minor": 0,
 "worksheets": [
  {
   "cells": [
    {
     "cell_type": "heading",
     "level": 1,
     "metadata": {},
     "source": [
      "Conclusion"
     ]
    },
    {
     "cell_type": "markdown",
     "metadata": {},
     "source": [
      "30 SPD vs 36 HCs\n",
      "\n",
      "- without 'C_RJY'\n",
      "- due to the high IQ score\n",
      "    - SPD group has a subject with IQ of 82, but it seems better to keep as many as SPD subjects because they are more valuable subjects\n",
      "- Parental SES is still not matched\n"
     ]
    },
    {
     "cell_type": "markdown",
     "metadata": {},
     "source": [
      "- subject list\n",
      "    - HCs :\n",
      "    ```\n",
      "    [u'C_LHS', u'C_JJW', u'C_JJH', u'C_KTH', u'C_LMH', u'C_YYJ', u'C_SER', u'C_HSY', u'C_HEA', u'C_KJW', u'C_KJS', u'C_CBH', u'C_BJM', u'C_KSH', u'C_HMK', u'C_LYJ', u'C_LKB', u'C_YJH', u'C_KDY', u'C_BHW', u'C_KJB', u'C_LJY', u'C_LJW', u'C_IYS', u'C_PJH', u'C_LSH', u'C_KCH', u'C_LJJ', u'C_KHP', u'C_LJH', u'C_JHS', u'C_SGR', u'C_AJH', u'C_LDH', u'C_PJI', u'C_YKH']\n",
      "    ```\n",
      "    \n"
     ]
    },
    {
     "cell_type": "code",
     "collapsed": false,
     "input": [
      "without_C_RJY.groupby('group').get_group(1)[['age','sex','edu','Hand','parentalSES','SES']].describe()"
     ],
     "language": "python",
     "metadata": {},
     "outputs": [
      {
       "html": [
        "<div style=\"max-height:1000px;max-width:1500px;overflow:auto;\">\n",
        "<table border=\"1\" class=\"dataframe\">\n",
        "  <thead>\n",
        "    <tr style=\"text-align: right;\">\n",
        "      <th></th>\n",
        "      <th>age</th>\n",
        "      <th>sex</th>\n",
        "      <th>edu</th>\n",
        "      <th>Hand</th>\n",
        "      <th>parentalSES</th>\n",
        "      <th>SES</th>\n",
        "    </tr>\n",
        "  </thead>\n",
        "  <tbody>\n",
        "    <tr>\n",
        "      <th>count</th>\n",
        "      <td> 36.000000</td>\n",
        "      <td> 36.000000</td>\n",
        "      <td> 36.000000</td>\n",
        "      <td> 36.000000</td>\n",
        "      <td> 36.000000</td>\n",
        "      <td> 36.000000</td>\n",
        "    </tr>\n",
        "    <tr>\n",
        "      <th>mean</th>\n",
        "      <td> 22.277778</td>\n",
        "      <td>  1.250000</td>\n",
        "      <td> 14.750000</td>\n",
        "      <td>  1.138889</td>\n",
        "      <td>  2.638889</td>\n",
        "      <td>  2.750000</td>\n",
        "    </tr>\n",
        "    <tr>\n",
        "      <th>std</th>\n",
        "      <td>  2.514087</td>\n",
        "      <td>  0.439155</td>\n",
        "      <td>  1.130739</td>\n",
        "      <td>  0.424451</td>\n",
        "      <td>  0.761682</td>\n",
        "      <td>  0.731925</td>\n",
        "    </tr>\n",
        "    <tr>\n",
        "      <th>min</th>\n",
        "      <td> 19.000000</td>\n",
        "      <td>  1.000000</td>\n",
        "      <td> 13.000000</td>\n",
        "      <td>  1.000000</td>\n",
        "      <td>  1.000000</td>\n",
        "      <td>  2.000000</td>\n",
        "    </tr>\n",
        "    <tr>\n",
        "      <th>25%</th>\n",
        "      <td> 20.000000</td>\n",
        "      <td>  1.000000</td>\n",
        "      <td> 14.000000</td>\n",
        "      <td>  1.000000</td>\n",
        "      <td>  2.000000</td>\n",
        "      <td>  2.000000</td>\n",
        "    </tr>\n",
        "    <tr>\n",
        "      <th>50%</th>\n",
        "      <td> 22.000000</td>\n",
        "      <td>  1.000000</td>\n",
        "      <td> 15.000000</td>\n",
        "      <td>  1.000000</td>\n",
        "      <td>  3.000000</td>\n",
        "      <td>  3.000000</td>\n",
        "    </tr>\n",
        "    <tr>\n",
        "      <th>75%</th>\n",
        "      <td> 23.250000</td>\n",
        "      <td>  1.250000</td>\n",
        "      <td> 16.000000</td>\n",
        "      <td>  1.000000</td>\n",
        "      <td>  3.000000</td>\n",
        "      <td>  3.000000</td>\n",
        "    </tr>\n",
        "    <tr>\n",
        "      <th>max</th>\n",
        "      <td> 28.000000</td>\n",
        "      <td>  2.000000</td>\n",
        "      <td> 17.000000</td>\n",
        "      <td>  3.000000</td>\n",
        "      <td>  5.000000</td>\n",
        "      <td>  4.000000</td>\n",
        "    </tr>\n",
        "  </tbody>\n",
        "</table>\n",
        "</div>"
       ],
       "metadata": {},
       "output_type": "pyout",
       "prompt_number": 310,
       "text": [
        "             age        sex        edu       Hand  parentalSES        SES\n",
        "count  36.000000  36.000000  36.000000  36.000000    36.000000  36.000000\n",
        "mean   22.277778   1.250000  14.750000   1.138889     2.638889   2.750000\n",
        "std     2.514087   0.439155   1.130739   0.424451     0.761682   0.731925\n",
        "min    19.000000   1.000000  13.000000   1.000000     1.000000   2.000000\n",
        "25%    20.000000   1.000000  14.000000   1.000000     2.000000   2.000000\n",
        "50%    22.000000   1.000000  15.000000   1.000000     3.000000   3.000000\n",
        "75%    23.250000   1.250000  16.000000   1.000000     3.000000   3.000000\n",
        "max    28.000000   2.000000  17.000000   3.000000     5.000000   4.000000"
       ]
      }
     ],
     "prompt_number": 310
    },
    {
     "cell_type": "markdown",
     "metadata": {},
     "source": [
      "- subject list\n",
      "    - SPD :\n",
      "    \n",
      "    ```\n",
      "    [u'T_IKB', u'T_KPY', u'T_JJH', u'T_CHI', u'T_BSH', u'T_KSM', u'T_KYJ', u'T_LYB', u'T_KHK', u'T_CKW', u'T_LSW', u'T_JYS', u'T_SKH', u'T_KSJ', u'T_KK', u'T_SCH', u'T_ANG', u'T_PI', u'T_KSH', u'T_PCY', u'T_TK', u'T_YJG', u'T_SSH', u'T_HSA', u'T_HS', u'T_YJ', u'T_JES', u'T_KKY', u'T_HSM', u'T_SK']\n",
      "    ```"
     ]
    },
    {
     "cell_type": "code",
     "collapsed": false,
     "input": [
      "without_C_RJY.groupby('group').get_group(2)[['age','sex','edu','Hand','parentalSES','SES']].describe()"
     ],
     "language": "python",
     "metadata": {},
     "outputs": [
      {
       "html": [
        "<div style=\"max-height:1000px;max-width:1500px;overflow:auto;\">\n",
        "<table border=\"1\" class=\"dataframe\">\n",
        "  <thead>\n",
        "    <tr style=\"text-align: right;\">\n",
        "      <th></th>\n",
        "      <th>age</th>\n",
        "      <th>sex</th>\n",
        "      <th>edu</th>\n",
        "      <th>Hand</th>\n",
        "      <th>parentalSES</th>\n",
        "      <th>SES</th>\n",
        "    </tr>\n",
        "  </thead>\n",
        "  <tbody>\n",
        "    <tr>\n",
        "      <th>count</th>\n",
        "      <td> 30.000000</td>\n",
        "      <td> 30.000000</td>\n",
        "      <td> 30.000000</td>\n",
        "      <td> 30.000000</td>\n",
        "      <td> 30.000000</td>\n",
        "      <td> 30.000000</td>\n",
        "    </tr>\n",
        "    <tr>\n",
        "      <th>mean</th>\n",
        "      <td> 22.900000</td>\n",
        "      <td>  1.300000</td>\n",
        "      <td> 14.733333</td>\n",
        "      <td>  1.233333</td>\n",
        "      <td>  3.133333</td>\n",
        "      <td>  2.800000</td>\n",
        "    </tr>\n",
        "    <tr>\n",
        "      <th>std</th>\n",
        "      <td>  3.447638</td>\n",
        "      <td>  0.466092</td>\n",
        "      <td>  1.552158</td>\n",
        "      <td>  0.504007</td>\n",
        "      <td>  1.105888</td>\n",
        "      <td>  0.924755</td>\n",
        "    </tr>\n",
        "    <tr>\n",
        "      <th>min</th>\n",
        "      <td> 16.000000</td>\n",
        "      <td>  1.000000</td>\n",
        "      <td> 12.000000</td>\n",
        "      <td>  1.000000</td>\n",
        "      <td>  1.000000</td>\n",
        "      <td>  1.000000</td>\n",
        "    </tr>\n",
        "    <tr>\n",
        "      <th>25%</th>\n",
        "      <td> 21.000000</td>\n",
        "      <td>  1.000000</td>\n",
        "      <td> 14.000000</td>\n",
        "      <td>  1.000000</td>\n",
        "      <td>  2.000000</td>\n",
        "      <td>  2.000000</td>\n",
        "    </tr>\n",
        "    <tr>\n",
        "      <th>50%</th>\n",
        "      <td> 23.000000</td>\n",
        "      <td>  1.000000</td>\n",
        "      <td> 15.000000</td>\n",
        "      <td>  1.000000</td>\n",
        "      <td>  3.000000</td>\n",
        "      <td>  3.000000</td>\n",
        "    </tr>\n",
        "    <tr>\n",
        "      <th>75%</th>\n",
        "      <td> 25.750000</td>\n",
        "      <td>  2.000000</td>\n",
        "      <td> 16.000000</td>\n",
        "      <td>  1.000000</td>\n",
        "      <td>  4.000000</td>\n",
        "      <td>  3.000000</td>\n",
        "    </tr>\n",
        "    <tr>\n",
        "      <th>max</th>\n",
        "      <td> 29.000000</td>\n",
        "      <td>  2.000000</td>\n",
        "      <td> 17.000000</td>\n",
        "      <td>  3.000000</td>\n",
        "      <td>  5.000000</td>\n",
        "      <td>  5.000000</td>\n",
        "    </tr>\n",
        "  </tbody>\n",
        "</table>\n",
        "</div>"
       ],
       "metadata": {},
       "output_type": "pyout",
       "prompt_number": 308,
       "text": [
        "             age        sex        edu       Hand  parentalSES        SES\n",
        "count  30.000000  30.000000  30.000000  30.000000    30.000000  30.000000\n",
        "mean   22.900000   1.300000  14.733333   1.233333     3.133333   2.800000\n",
        "std     3.447638   0.466092   1.552158   0.504007     1.105888   0.924755\n",
        "min    16.000000   1.000000  12.000000   1.000000     1.000000   1.000000\n",
        "25%    21.000000   1.000000  14.000000   1.000000     2.000000   2.000000\n",
        "50%    23.000000   1.000000  15.000000   1.000000     3.000000   3.000000\n",
        "75%    25.750000   2.000000  16.000000   1.000000     4.000000   3.000000\n",
        "max    29.000000   2.000000  17.000000   3.000000     5.000000   5.000000"
       ]
      }
     ],
     "prompt_number": 308
    },
    {
     "cell_type": "code",
     "collapsed": false,
     "input": [
      "without_C_RJY.to_excel('without_C_RJY.xlsx','Sheet1')"
     ],
     "language": "python",
     "metadata": {},
     "outputs": [],
     "prompt_number": 311
    },
    {
     "cell_type": "code",
     "collapsed": false,
     "input": [
      "from IPython.display import Image\n",
      "from IPython.display import HTML\n",
      "import os\n",
      "import pandas as pd\n",
      "import re\n",
      "from rpy2.robjects.lib import ggplot2\n",
      "import matplotlib.pyplot as plt\n",
      "\n",
      "from ggplot import *\n",
      "\n",
      "pd.set_option('max_rows',10000)\n",
      "pd.set_option('max_columns',10000)\n",
      "pd.options.display.mpl_style = 'default'\n",
      "\n",
      "%load_ext rmagic\n",
      "\n",
      "%R require(ggplot2)\n",
      "\n",
      "\n",
      "\n",
      "#ttest\n",
      "from scipy import stats"
     ],
     "language": "python",
     "metadata": {},
     "outputs": [
      {
       "output_type": "stream",
       "stream": "stdout",
       "text": [
        "The rmagic extension is already loaded. To reload it, use:\n",
        "  %reload_ext rmagic\n"
       ]
      }
     ],
     "prompt_number": 81
    },
    {
     "cell_type": "code",
     "collapsed": false,
     "input": [
      "def draw(inputDf,toCompare,option='-',average=False):\n",
      "    df = inputDf[['group',toCompare]]\n",
      "    fig, ax = plt.subplots()\n",
      "\n",
      "    if average:\n",
      "        ax.plot(df[df.group==1][toCompare].mean(),'b'+option, label='HCs')\n",
      "        ax.plot(df[df.group==2][toCompare].mean(),'r'+option,label='SPD')\n",
      "        legend = ax.legend(loc='upper right', shadow=True)\n",
      "    else:\n",
      "        ax.plot(df[df.group==1][toCompare],'b'+option, label='HCs')\n",
      "        ax.plot(df[df.group==2][toCompare],'r'+option,label='SPD')\n",
      "        legend = ax.legend(loc='upper right', shadow=True)            \n",
      "\n",
      "    df.boxplot(column=toCompare, by='group')"
     ],
     "language": "python",
     "metadata": {},
     "outputs": [],
     "prompt_number": 279
    },
    {
     "cell_type": "heading",
     "level": 1,
     "metadata": {},
     "source": [
      "Load BM demo"
     ]
    },
    {
     "cell_type": "code",
     "collapsed": false,
     "input": [
      "subjects= [x for x in os.listdir('/Volumes/CCNC_3T/KangIk/2014_05_DKI_project') if re.match('\\d',x)]\n",
      "spdSubjects = [x for x in subjects if re.search('(-|_)T(-|_)',x)]\n",
      "conSubjects = [x for x in subjects if re.search('(-|_)C(-|_)',x)]"
     ],
     "language": "python",
     "metadata": {},
     "outputs": [],
     "prompt_number": 145
    },
    {
     "cell_type": "code",
     "collapsed": false,
     "input": [
      "excelFile = pd.ExcelFile(\"/Users/admin/Dropbox/BM_demo.xlsx\")\n",
      "demoDf = excelFile.parse(0)\n",
      "demoDf = demoDf.dropna(axis=1,how='all')\n",
      "#name index\n",
      "df = demoDf.set_index(u'name')"
     ],
     "language": "python",
     "metadata": {},
     "outputs": [],
     "prompt_number": 146
    },
    {
     "cell_type": "heading",
     "level": 4,
     "metadata": {},
     "source": [
      "Select the subjects with data"
     ]
    },
    {
     "cell_type": "code",
     "collapsed": false,
     "input": [
      "spdCriterion = df.index.map(lambda x: x in [x[3:] for x in spdSubjects])\n",
      "conCriterion = df.index.map(lambda x: x in [x[3:] for x in conSubjects])\n",
      "spdTable = df[spdCriterion]\n",
      "conTable = df[conCriterion]\n",
      "allData = pd.concat([spdTable,conTable])"
     ],
     "language": "python",
     "metadata": {},
     "outputs": [],
     "prompt_number": 244
    },
    {
     "cell_type": "code",
     "collapsed": false,
     "input": [
      "allData.ix[:10,:10]"
     ],
     "language": "python",
     "metadata": {},
     "outputs": [
      {
       "html": [
        "<div style=\"max-height:1000px;max-width:1500px;overflow:auto;\">\n",
        "<table border=\"1\" class=\"dataframe\">\n",
        "  <thead>\n",
        "    <tr style=\"text-align: right;\">\n",
        "      <th></th>\n",
        "      <th>No</th>\n",
        "      <th>No_of_conn</th>\n",
        "      <th>new_conn_no</th>\n",
        "      <th>age</th>\n",
        "      <th>sex</th>\n",
        "      <th>edu</th>\n",
        "      <th>group</th>\n",
        "      <th>Hand</th>\n",
        "      <th>Medi</th>\n",
        "      <th>FamilyHx</th>\n",
        "    </tr>\n",
        "    <tr>\n",
        "      <th>name</th>\n",
        "      <th></th>\n",
        "      <th></th>\n",
        "      <th></th>\n",
        "      <th></th>\n",
        "      <th></th>\n",
        "      <th></th>\n",
        "      <th></th>\n",
        "      <th></th>\n",
        "      <th></th>\n",
        "      <th></th>\n",
        "    </tr>\n",
        "  </thead>\n",
        "  <tbody>\n",
        "    <tr>\n",
        "      <th>T_IKB</th>\n",
        "      <td> T01</td>\n",
        "      <td> 18</td>\n",
        "      <td> 18</td>\n",
        "      <td> 24</td>\n",
        "      <td> 1</td>\n",
        "      <td> 15</td>\n",
        "      <td> 2</td>\n",
        "      <td> 1</td>\n",
        "      <td> 0</td>\n",
        "      <td> 0</td>\n",
        "    </tr>\n",
        "    <tr>\n",
        "      <th>T_KPY</th>\n",
        "      <td> T02</td>\n",
        "      <td> 19</td>\n",
        "      <td> 19</td>\n",
        "      <td> 22</td>\n",
        "      <td> 1</td>\n",
        "      <td> 15</td>\n",
        "      <td> 2</td>\n",
        "      <td> 1</td>\n",
        "      <td> 0</td>\n",
        "      <td> 0</td>\n",
        "    </tr>\n",
        "    <tr>\n",
        "      <th>T_JJH</th>\n",
        "      <td> T03</td>\n",
        "      <td> 20</td>\n",
        "      <td> 20</td>\n",
        "      <td> 22</td>\n",
        "      <td> 1</td>\n",
        "      <td> 13</td>\n",
        "      <td> 2</td>\n",
        "      <td> 1</td>\n",
        "      <td> 0</td>\n",
        "      <td> 0</td>\n",
        "    </tr>\n",
        "    <tr>\n",
        "      <th>T_CHI</th>\n",
        "      <td> T04</td>\n",
        "      <td> 21</td>\n",
        "      <td> 21</td>\n",
        "      <td> 28</td>\n",
        "      <td> 1</td>\n",
        "      <td> 16</td>\n",
        "      <td> 2</td>\n",
        "      <td> 1</td>\n",
        "      <td> 0</td>\n",
        "      <td> 0</td>\n",
        "    </tr>\n",
        "    <tr>\n",
        "      <th>T_BSH</th>\n",
        "      <td> T05</td>\n",
        "      <td> 22</td>\n",
        "      <td> 22</td>\n",
        "      <td> 29</td>\n",
        "      <td> 1</td>\n",
        "      <td> 16</td>\n",
        "      <td> 2</td>\n",
        "      <td> 2</td>\n",
        "      <td> 0</td>\n",
        "      <td> 0</td>\n",
        "    </tr>\n",
        "    <tr>\n",
        "      <th>T_KSM</th>\n",
        "      <td> T07</td>\n",
        "      <td> 23</td>\n",
        "      <td> 23</td>\n",
        "      <td> 28</td>\n",
        "      <td> 1</td>\n",
        "      <td> 12</td>\n",
        "      <td> 2</td>\n",
        "      <td> 1</td>\n",
        "      <td> 0</td>\n",
        "      <td> 0</td>\n",
        "    </tr>\n",
        "    <tr>\n",
        "      <th>T_KYJ</th>\n",
        "      <td> T09</td>\n",
        "      <td> 24</td>\n",
        "      <td> 24</td>\n",
        "      <td> 20</td>\n",
        "      <td> 2</td>\n",
        "      <td> 15</td>\n",
        "      <td> 2</td>\n",
        "      <td> 1</td>\n",
        "      <td> 0</td>\n",
        "      <td> 0</td>\n",
        "    </tr>\n",
        "    <tr>\n",
        "      <th>T_LYB</th>\n",
        "      <td> T11</td>\n",
        "      <td> 26</td>\n",
        "      <td> 25</td>\n",
        "      <td> 23</td>\n",
        "      <td> 2</td>\n",
        "      <td> 16</td>\n",
        "      <td> 2</td>\n",
        "      <td> 1</td>\n",
        "      <td> 0</td>\n",
        "      <td> 0</td>\n",
        "    </tr>\n",
        "    <tr>\n",
        "      <th>T_KHK</th>\n",
        "      <td> T13</td>\n",
        "      <td> 28</td>\n",
        "      <td> 26</td>\n",
        "      <td> 21</td>\n",
        "      <td> 1</td>\n",
        "      <td> 15</td>\n",
        "      <td> 2</td>\n",
        "      <td> 1</td>\n",
        "      <td> 0</td>\n",
        "      <td> 0</td>\n",
        "    </tr>\n",
        "    <tr>\n",
        "      <th>T_CKW</th>\n",
        "      <td> T16</td>\n",
        "      <td> 29</td>\n",
        "      <td> 27</td>\n",
        "      <td> 16</td>\n",
        "      <td> 1</td>\n",
        "      <td> 12</td>\n",
        "      <td> 2</td>\n",
        "      <td> 2</td>\n",
        "      <td> 0</td>\n",
        "      <td> 0</td>\n",
        "    </tr>\n",
        "  </tbody>\n",
        "</table>\n",
        "</div>"
       ],
       "metadata": {},
       "output_type": "pyout",
       "prompt_number": 246,
       "text": [
        "        No  No_of_conn  new_conn_no  age  sex  edu  group  Hand  Medi  \\\n",
        "name                                                                    \n",
        "T_IKB  T01          18           18   24    1   15      2     1     0   \n",
        "T_KPY  T02          19           19   22    1   15      2     1     0   \n",
        "T_JJH  T03          20           20   22    1   13      2     1     0   \n",
        "T_CHI  T04          21           21   28    1   16      2     1     0   \n",
        "T_BSH  T05          22           22   29    1   16      2     2     0   \n",
        "T_KSM  T07          23           23   28    1   12      2     1     0   \n",
        "T_KYJ  T09          24           24   20    2   15      2     1     0   \n",
        "T_LYB  T11          26           25   23    2   16      2     1     0   \n",
        "T_KHK  T13          28           26   21    1   15      2     1     0   \n",
        "T_CKW  T16          29           27   16    1   12      2     2     0   \n",
        "\n",
        "       FamilyHx  \n",
        "name             \n",
        "T_IKB         0  \n",
        "T_KPY         0  \n",
        "T_JJH         0  \n",
        "T_CHI         0  \n",
        "T_BSH         0  \n",
        "T_KSM         0  \n",
        "T_KYJ         0  \n",
        "T_LYB         0  \n",
        "T_KHK         0  \n",
        "T_CKW         0  "
       ]
      }
     ],
     "prompt_number": 246
    },
    {
     "cell_type": "heading",
     "level": 4,
     "metadata": {},
     "source": [
      "Subject number count"
     ]
    },
    {
     "cell_type": "code",
     "collapsed": false,
     "input": [
      "allData.groupby('group').count()[['No']]"
     ],
     "language": "python",
     "metadata": {},
     "outputs": [
      {
       "html": [
        "<div style=\"max-height:1000px;max-width:1500px;overflow:auto;\">\n",
        "<table border=\"1\" class=\"dataframe\">\n",
        "  <thead>\n",
        "    <tr style=\"text-align: right;\">\n",
        "      <th></th>\n",
        "      <th>No</th>\n",
        "    </tr>\n",
        "    <tr>\n",
        "      <th>group</th>\n",
        "      <th></th>\n",
        "    </tr>\n",
        "  </thead>\n",
        "  <tbody>\n",
        "    <tr>\n",
        "      <th>1</th>\n",
        "      <td> 37</td>\n",
        "    </tr>\n",
        "    <tr>\n",
        "      <th>2</th>\n",
        "      <td> 30</td>\n",
        "    </tr>\n",
        "  </tbody>\n",
        "</table>\n",
        "</div>"
       ],
       "metadata": {},
       "output_type": "pyout",
       "prompt_number": 261,
       "text": [
        "       No\n",
        "group    \n",
        "1      37\n",
        "2      30"
       ]
      }
     ],
     "prompt_number": 261
    },
    {
     "cell_type": "heading",
     "level": 1,
     "metadata": {},
     "source": [
      "Age comparison"
     ]
    },
    {
     "cell_type": "markdown",
     "metadata": {},
     "source": [
      "- 1 = Controls\n",
      "- 2 = SPD"
     ]
    },
    {
     "cell_type": "code",
     "collapsed": false,
     "input": [
      "allData.groupby('group')[['age']].describe().T"
     ],
     "language": "python",
     "metadata": {},
     "outputs": [
      {
       "html": [
        "<div style=\"max-height:1000px;max-width:1500px;overflow:auto;\">\n",
        "<table border=\"1\" class=\"dataframe\">\n",
        "  <thead>\n",
        "    <tr>\n",
        "      <th>group</th>\n",
        "      <th colspan=\"8\" halign=\"left\">1</th>\n",
        "      <th colspan=\"8\" halign=\"left\">2</th>\n",
        "    </tr>\n",
        "    <tr>\n",
        "      <th></th>\n",
        "      <th>count</th>\n",
        "      <th>mean</th>\n",
        "      <th>std</th>\n",
        "      <th>min</th>\n",
        "      <th>25%</th>\n",
        "      <th>50%</th>\n",
        "      <th>75%</th>\n",
        "      <th>max</th>\n",
        "      <th>count</th>\n",
        "      <th>mean</th>\n",
        "      <th>std</th>\n",
        "      <th>min</th>\n",
        "      <th>25%</th>\n",
        "      <th>50%</th>\n",
        "      <th>75%</th>\n",
        "      <th>max</th>\n",
        "    </tr>\n",
        "  </thead>\n",
        "  <tbody>\n",
        "    <tr>\n",
        "      <th>age</th>\n",
        "      <td> 37</td>\n",
        "      <td> 22.189189</td>\n",
        "      <td> 2.536816</td>\n",
        "      <td> 19</td>\n",
        "      <td> 20</td>\n",
        "      <td> 22</td>\n",
        "      <td> 23</td>\n",
        "      <td> 28</td>\n",
        "      <td> 30</td>\n",
        "      <td> 22.9</td>\n",
        "      <td> 3.447638</td>\n",
        "      <td> 16</td>\n",
        "      <td> 21</td>\n",
        "      <td> 23</td>\n",
        "      <td> 25.75</td>\n",
        "      <td> 29</td>\n",
        "    </tr>\n",
        "  </tbody>\n",
        "</table>\n",
        "</div>"
       ],
       "metadata": {},
       "output_type": "pyout",
       "prompt_number": 236,
       "text": [
        "group      1                                                    2        \\\n",
        "       count       mean       std  min  25%  50%  75%  max  count  mean   \n",
        "age       37  22.189189  2.536816   19   20   22   23   28     30  22.9   \n",
        "\n",
        "group                                       \n",
        "            std  min  25%  50%    75%  max  \n",
        "age    3.447638   16   21   23  25.75   29  "
       ]
      }
     ],
     "prompt_number": 236
    },
    {
     "cell_type": "code",
     "collapsed": false,
     "input": [
      "draw(allData,'age')"
     ],
     "language": "python",
     "metadata": {},
     "outputs": [
      {
       "metadata": {},
       "output_type": "display_data",
       "png": "[encoded data removed]",
       "text": [
        "<matplotlib.figure.Figure at 0x1131cb090>"
       ]
      },
      {
       "metadata": {},
       "output_type": "display_data",
       "png": "[encoded data removed]",
       "text": [
        "<matplotlib.figure.Figure at 0x118f48610>"
       ]
      }
     ],
     "prompt_number": 258
    },
    {
     "cell_type": "code",
     "collapsed": false,
     "input": [
      "twoSample = stats.ttest_ind(conTable[['age']],spdTable[['age']])\n",
      "print 'The t-statistic is %.3f and the p-value is %.3f.' % twoSample"
     ],
     "language": "python",
     "metadata": {},
     "outputs": [
      {
       "output_type": "stream",
       "stream": "stdout",
       "text": [
        "The t-statistic is -0.972 and the p-value is 0.335.\n"
       ]
      }
     ],
     "prompt_number": 238
    },
    {
     "cell_type": "heading",
     "level": 1,
     "metadata": {},
     "source": [
      "**IQ comparison"
     ]
    },
    {
     "cell_type": "code",
     "collapsed": false,
     "input": [
      "allData.groupby('group')[['IQ']].describe().T"
     ],
     "language": "python",
     "metadata": {},
     "outputs": [
      {
       "html": [
        "<div style=\"max-height:1000px;max-width:1500px;overflow:auto;\">\n",
        "<table border=\"1\" class=\"dataframe\">\n",
        "  <thead>\n",
        "    <tr>\n",
        "      <th>group</th>\n",
        "      <th colspan=\"8\" halign=\"left\">1</th>\n",
        "      <th colspan=\"8\" halign=\"left\">2</th>\n",
        "    </tr>\n",
        "    <tr>\n",
        "      <th></th>\n",
        "      <th>count</th>\n",
        "      <th>mean</th>\n",
        "      <th>std</th>\n",
        "      <th>min</th>\n",
        "      <th>25%</th>\n",
        "      <th>50%</th>\n",
        "      <th>75%</th>\n",
        "      <th>max</th>\n",
        "      <th>count</th>\n",
        "      <th>mean</th>\n",
        "      <th>std</th>\n",
        "      <th>min</th>\n",
        "      <th>25%</th>\n",
        "      <th>50%</th>\n",
        "      <th>75%</th>\n",
        "      <th>max</th>\n",
        "    </tr>\n",
        "  </thead>\n",
        "  <tbody>\n",
        "    <tr>\n",
        "      <th>IQ</th>\n",
        "      <td> 37</td>\n",
        "      <td> 120.351351</td>\n",
        "      <td> 7.627495</td>\n",
        "      <td> 105</td>\n",
        "      <td> 116</td>\n",
        "      <td> 120</td>\n",
        "      <td> 124</td>\n",
        "      <td> 136</td>\n",
        "      <td> 30</td>\n",
        "      <td> 115.333333</td>\n",
        "      <td> 11.558944</td>\n",
        "      <td> 82</td>\n",
        "      <td> 112.25</td>\n",
        "      <td> 120</td>\n",
        "      <td> 122.75</td>\n",
        "      <td> 129</td>\n",
        "    </tr>\n",
        "  </tbody>\n",
        "</table>\n",
        "</div>"
       ],
       "metadata": {},
       "output_type": "pyout",
       "prompt_number": 240,
       "text": [
        "group      1                                                     2  \\\n",
        "       count        mean       std  min  25%  50%  75%  max  count   \n",
        "IQ        37  120.351351  7.627495  105  116  120  124  136     30   \n",
        "\n",
        "group                                                        \n",
        "             mean        std  min     25%  50%     75%  max  \n",
        "IQ     115.333333  11.558944   82  112.25  120  122.75  129  "
       ]
      }
     ],
     "prompt_number": 240
    },
    {
     "cell_type": "code",
     "collapsed": false,
     "input": [
      "draw(allData,'IQ')"
     ],
     "language": "python",
     "metadata": {},
     "outputs": [
      {
       "metadata": {},
       "output_type": "display_data",
       "png": "[encoded data removed]",
       "text": [
        "<matplotlib.figure.Figure at 0x118f51690>"
       ]
      },
      {
       "metadata": {},
       "output_type": "display_data",
       "png": "[encoded data removed]",
       "text": [
        "<matplotlib.figure.Figure at 0x118fbd910>"
       ]
      }
     ],
     "prompt_number": 242
    },
    {
     "cell_type": "code",
     "collapsed": false,
     "input": [
      "twoSample = stats.ttest_ind(conTable[['IQ']],spdTable[['IQ']])\n",
      "print 'The t-statistic is %.3f and the p-value is %.3f.' % twoSample"
     ],
     "language": "python",
     "metadata": {},
     "outputs": [
      {
       "output_type": "stream",
       "stream": "stdout",
       "text": [
        "The t-statistic is 2.131 and the p-value is 0.037.\n"
       ]
      }
     ],
     "prompt_number": 262
    },
    {
     "cell_type": "heading",
     "level": 4,
     "metadata": {},
     "source": [
      "Test without the subject with the lowest IQ"
     ]
    },
    {
     "cell_type": "code",
     "collapsed": false,
     "input": [
      "allData[['IQ']].sort('IQ').head(10)"
     ],
     "language": "python",
     "metadata": {},
     "outputs": [
      {
       "html": [
        "<div style=\"max-height:1000px;max-width:1500px;overflow:auto;\">\n",
        "<table border=\"1\" class=\"dataframe\">\n",
        "  <thead>\n",
        "    <tr style=\"text-align: right;\">\n",
        "      <th></th>\n",
        "      <th>IQ</th>\n",
        "    </tr>\n",
        "    <tr>\n",
        "      <th>name</th>\n",
        "      <th></th>\n",
        "    </tr>\n",
        "  </thead>\n",
        "  <tbody>\n",
        "    <tr>\n",
        "      <th>T_HSA</th>\n",
        "      <td>  82</td>\n",
        "    </tr>\n",
        "    <tr>\n",
        "      <th>T_TK</th>\n",
        "      <td>  89</td>\n",
        "    </tr>\n",
        "    <tr>\n",
        "      <th>T_KSH</th>\n",
        "      <td>  98</td>\n",
        "    </tr>\n",
        "    <tr>\n",
        "      <th>T_JYS</th>\n",
        "      <td>  99</td>\n",
        "    </tr>\n",
        "    <tr>\n",
        "      <th>T_KSM</th>\n",
        "      <td> 103</td>\n",
        "    </tr>\n",
        "    <tr>\n",
        "      <th>C_SGR</th>\n",
        "      <td> 105</td>\n",
        "    </tr>\n",
        "    <tr>\n",
        "      <th>T_HS</th>\n",
        "      <td> 105</td>\n",
        "    </tr>\n",
        "    <tr>\n",
        "      <th>C_YYJ</th>\n",
        "      <td> 105</td>\n",
        "    </tr>\n",
        "    <tr>\n",
        "      <th>C_YKH</th>\n",
        "      <td> 109</td>\n",
        "    </tr>\n",
        "    <tr>\n",
        "      <th>T_KSJ</th>\n",
        "      <td> 109</td>\n",
        "    </tr>\n",
        "  </tbody>\n",
        "</table>\n",
        "</div>"
       ],
       "metadata": {},
       "output_type": "pyout",
       "prompt_number": 266,
       "text": [
        "        IQ\n",
        "name      \n",
        "T_HSA   82\n",
        "T_TK    89\n",
        "T_KSH   98\n",
        "T_JYS   99\n",
        "T_KSM  103\n",
        "C_SGR  105\n",
        "T_HS   105\n",
        "C_YYJ  105\n",
        "C_YKH  109\n",
        "T_KSJ  109"
       ]
      }
     ],
     "prompt_number": 266
    },
    {
     "cell_type": "markdown",
     "metadata": {},
     "source": [
      "T_HSA has the lowest IQ."
     ]
    },
    {
     "cell_type": "heading",
     "level": 2,
     "metadata": {},
     "source": [
      "IQ Group test without 'T_HSA'"
     ]
    },
    {
     "cell_type": "code",
     "collapsed": false,
     "input": [
      "without_T_HSA = allData.drop('T_HSA')\n",
      "draw(without_T_HSA,'IQ')"
     ],
     "language": "python",
     "metadata": {},
     "outputs": [
      {
       "metadata": {},
       "output_type": "display_data",
       "png": "[encoded data removed]",
       "text": [
        "<matplotlib.figure.Figure at 0x111ff1c90>"
       ]
      },
      {
       "metadata": {},
       "output_type": "display_data",
       "png": "[encoded data removed]",
       "text": [
        "<matplotlib.figure.Figure at 0x1131b2410>"
       ]
      }
     ],
     "prompt_number": 268
    },
    {
     "cell_type": "code",
     "collapsed": false,
     "input": [
      "twoSample = stats.ttest_ind(without_T_HSA.groupby('group').get_group(1)[['IQ']],without_T_HSA.groupby('group').get_group(2)[['IQ']])\n",
      "print 'The t-statistic is %.3f and the p-value is %.3f.' % twoSample"
     ],
     "language": "python",
     "metadata": {},
     "outputs": [
      {
       "output_type": "stream",
       "stream": "stdout",
       "text": [
        "The t-statistic is 1.797 and the p-value is 0.077.\n"
       ]
      }
     ],
     "prompt_number": 269
    },
    {
     "cell_type": "heading",
     "level": 4,
     "metadata": {},
     "source": [
      "Test without the subject with the highest IQ"
     ]
    },
    {
     "cell_type": "code",
     "collapsed": false,
     "input": [
      "allData[['IQ']].sort('IQ').tail(10)"
     ],
     "language": "python",
     "metadata": {},
     "outputs": [
      {
       "html": [
        "<div style=\"max-height:1000px;max-width:1500px;overflow:auto;\">\n",
        "<table border=\"1\" class=\"dataframe\">\n",
        "  <thead>\n",
        "    <tr style=\"text-align: right;\">\n",
        "      <th></th>\n",
        "      <th>IQ</th>\n",
        "    </tr>\n",
        "    <tr>\n",
        "      <th>name</th>\n",
        "      <th></th>\n",
        "    </tr>\n",
        "  </thead>\n",
        "  <tbody>\n",
        "    <tr>\n",
        "      <th>T_PI</th>\n",
        "      <td> 127</td>\n",
        "    </tr>\n",
        "    <tr>\n",
        "      <th>T_CHI</th>\n",
        "      <td> 127</td>\n",
        "    </tr>\n",
        "    <tr>\n",
        "      <th>C_IYS</th>\n",
        "      <td> 128</td>\n",
        "    </tr>\n",
        "    <tr>\n",
        "      <th>T_KK</th>\n",
        "      <td> 129</td>\n",
        "    </tr>\n",
        "    <tr>\n",
        "      <th>C_KTH</th>\n",
        "      <td> 129</td>\n",
        "    </tr>\n",
        "    <tr>\n",
        "      <th>C_LJH</th>\n",
        "      <td> 130</td>\n",
        "    </tr>\n",
        "    <tr>\n",
        "      <th>C_LDH</th>\n",
        "      <td> 131</td>\n",
        "    </tr>\n",
        "    <tr>\n",
        "      <th>C_KHP</th>\n",
        "      <td> 133</td>\n",
        "    </tr>\n",
        "    <tr>\n",
        "      <th>C_KSH</th>\n",
        "      <td> 135</td>\n",
        "    </tr>\n",
        "    <tr>\n",
        "      <th>C_RJY</th>\n",
        "      <td> 136</td>\n",
        "    </tr>\n",
        "  </tbody>\n",
        "</table>\n",
        "</div>"
       ],
       "metadata": {},
       "output_type": "pyout",
       "prompt_number": 270,
       "text": [
        "        IQ\n",
        "name      \n",
        "T_PI   127\n",
        "T_CHI  127\n",
        "C_IYS  128\n",
        "T_KK   129\n",
        "C_KTH  129\n",
        "C_LJH  130\n",
        "C_LDH  131\n",
        "C_KHP  133\n",
        "C_KSH  135\n",
        "C_RJY  136"
       ]
      }
     ],
     "prompt_number": 270
    },
    {
     "cell_type": "markdown",
     "metadata": {},
     "source": [
      "C_RJY has the highest IQ"
     ]
    },
    {
     "cell_type": "heading",
     "level": 2,
     "metadata": {},
     "source": [
      "IQ comparison without 'C_RJY'"
     ]
    },
    {
     "cell_type": "code",
     "collapsed": false,
     "input": [
      "without_C_RJY = allData.drop('C_RJY')\n",
      "draw(without_C_RJY,'IQ')"
     ],
     "language": "python",
     "metadata": {},
     "outputs": [
      {
       "metadata": {},
       "output_type": "display_data",
       "png": "[encoded data removed]",
       "text": [
        "<matplotlib.figure.Figure at 0x113571610>"
       ]
      },
      {
       "metadata": {},
       "output_type": "display_data",
       "png": "[encoded data removed]",
       "text": [
        "<matplotlib.figure.Figure at 0x111f2c950>"
       ]
      }
     ],
     "prompt_number": 273
    },
    {
     "cell_type": "code",
     "collapsed": false,
     "input": [
      "twoSample = stats.ttest_ind(without_C_RJY.groupby('group').get_group(1)[['IQ']],without_C_RJY.groupby('group').get_group(2)[['IQ']])\n",
      "print 'The t-statistic is %.3f and the p-value is %.3f.' % twoSample"
     ],
     "language": "python",
     "metadata": {},
     "outputs": [
      {
       "output_type": "stream",
       "stream": "stdout",
       "text": [
        "The t-statistic is 1.962 and the p-value is 0.054.\n"
       ]
      }
     ],
     "prompt_number": 274
    },
    {
     "cell_type": "heading",
     "level": 3,
     "metadata": {},
     "source": [
      "Test for other demographic information : in without_C_RJY"
     ]
    },
    {
     "cell_type": "code",
     "collapsed": false,
     "input": [
      "for otherDemo in ['age','edu','parentalSES','SES']:\n",
      "    twoSample = stats.ttest_ind(without_C_RJY.groupby('group').get_group(1)[[otherDemo]],without_C_RJY.groupby('group').get_group(2)[[otherDemo]])\n",
      "    print otherDemo\n",
      "    print '\\tThe t-statistic is %.3f and the p-value is %.3f.' % twoSample\n",
      "\n",
      "sexTable = without_C_RJY[['group','sex']]\n",
      "handTable = without_C_RJY[['group','Hand']]\n",
      "%R -i sexTable handTable\n",
      "%R print(prop.test(table(sexTable$group,sexTable$sex),correct=FALSE))\n",
      "%R print(prop.test(table(handTable$group,handTable$Hand),correct=FALSE))"
     ],
     "language": "python",
     "metadata": {},
     "outputs": [
      {
       "output_type": "stream",
       "stream": "stdout",
       "text": [
        "age\n",
        "\tThe t-statistic is -0.846 and the p-value is 0.400.\n",
        "edu\n",
        "\tThe t-statistic is 0.050 and the p-value is 0.960.\n",
        "parentalSES\n",
        "\tThe t-statistic is -2.143 and the p-value is 0.036.\n",
        "SES\n",
        "\tThe t-statistic is -0.245 and the p-value is 0.807.\n"
       ]
      },
      {
       "metadata": {},
       "output_type": "display_data",
       "text": [
        "\n",
        "\t2-sample test for equality of proportions without continuity\n",
        "\tcorrection\n",
        "\n",
        "data:  table(sexTable$group, sexTable$sex)\n",
        "X-squared = 0.2062, df = 1, p-value = 0.6497\n",
        "alternative hypothesis: two.sided\n",
        "95 percent confidence interval:\n",
        " -0.166559  0.266559\n",
        "sample estimates:\n",
        "prop 1 prop 2 \n",
        "  0.75   0.70 \n",
        "\n"
       ]
      },
      {
       "metadata": {},
       "output_type": "display_data",
       "text": [
        "\n",
        "\t2-sample test for equality of proportions without continuity\n",
        "\tcorrection\n",
        "\n",
        "data:  table(handTable$group, handTable$Hand)\n",
        "X-squared = 1.9471, df = 1, p-value = 0.1629\n",
        "alternative hypothesis: two.sided\n",
        "95 percent confidence interval:\n",
        " -0.06087673  0.31087673\n",
        "sample estimates:\n",
        "   prop 1    prop 2 \n",
        "0.9166667 0.7916667 \n",
        "\n"
       ]
      }
     ],
     "prompt_number": 300
    },
    {
     "cell_type": "heading",
     "level": 1,
     "metadata": {},
     "source": [
      "Education comparison"
     ]
    },
    {
     "cell_type": "code",
     "collapsed": false,
     "input": [
      "allData.groupby('group')[['edu']].describe().T"
     ],
     "language": "python",
     "metadata": {},
     "outputs": [
      {
       "html": [
        "<div style=\"max-height:1000px;max-width:1500px;overflow:auto;\">\n",
        "<table border=\"1\" class=\"dataframe\">\n",
        "  <thead>\n",
        "    <tr>\n",
        "      <th>group</th>\n",
        "      <th colspan=\"8\" halign=\"left\">1</th>\n",
        "      <th colspan=\"8\" halign=\"left\">2</th>\n",
        "    </tr>\n",
        "    <tr>\n",
        "      <th></th>\n",
        "      <th>count</th>\n",
        "      <th>mean</th>\n",
        "      <th>std</th>\n",
        "      <th>min</th>\n",
        "      <th>25%</th>\n",
        "      <th>50%</th>\n",
        "      <th>75%</th>\n",
        "      <th>max</th>\n",
        "      <th>count</th>\n",
        "      <th>mean</th>\n",
        "      <th>std</th>\n",
        "      <th>min</th>\n",
        "      <th>25%</th>\n",
        "      <th>50%</th>\n",
        "      <th>75%</th>\n",
        "      <th>max</th>\n",
        "    </tr>\n",
        "  </thead>\n",
        "  <tbody>\n",
        "    <tr>\n",
        "      <th>edu</th>\n",
        "      <td> 37</td>\n",
        "      <td> 14.72973</td>\n",
        "      <td> 1.121721</td>\n",
        "      <td> 13</td>\n",
        "      <td> 14</td>\n",
        "      <td> 15</td>\n",
        "      <td> 16</td>\n",
        "      <td> 17</td>\n",
        "      <td> 25</td>\n",
        "      <td> 14.64</td>\n",
        "      <td> 1.604161</td>\n",
        "      <td> 12</td>\n",
        "      <td> 14</td>\n",
        "      <td> 15</td>\n",
        "      <td> 16</td>\n",
        "      <td> 17</td>\n",
        "    </tr>\n",
        "  </tbody>\n",
        "</table>\n",
        "</div>"
       ],
       "metadata": {},
       "output_type": "pyout",
       "prompt_number": 100,
       "text": [
        "group      1                                                   2         \\\n",
        "       count      mean       std  min  25%  50%  75%  max  count   mean   \n",
        "edu       37  14.72973  1.121721   13   14   15   16   17     25  14.64   \n",
        "\n",
        "group                                     \n",
        "            std  min  25%  50%  75%  max  \n",
        "edu    1.604161   12   14   15   16   17  "
       ]
      }
     ],
     "prompt_number": 100
    },
    {
     "cell_type": "code",
     "collapsed": false,
     "input": [
      "draw(allData,'edu')"
     ],
     "language": "python",
     "metadata": {},
     "outputs": [
      {
       "metadata": {},
       "output_type": "display_data",
       "png": "[encoded data removed]",
       "text": [
        "<matplotlib.figure.Figure at 0x118fc57d0>"
       ]
      },
      {
       "metadata": {},
       "output_type": "display_data",
       "png": "[encoded data removed]",
       "text": [
        "<matplotlib.figure.Figure at 0x118f42e50>"
       ]
      }
     ],
     "prompt_number": 228
    },
    {
     "cell_type": "code",
     "collapsed": false,
     "input": [
      "twoSample = stats.ttest_ind(conTable[['edu']],spdTable[['edu']])\n",
      "print 'The t-statistic is %.3f and the p-value is %.3f.' % twoSample"
     ],
     "language": "python",
     "metadata": {},
     "outputs": [
      {
       "output_type": "stream",
       "stream": "stdout",
       "text": [
        "The t-statistic is -0.011 and the p-value is 0.991.\n"
       ]
      }
     ],
     "prompt_number": 102
    },
    {
     "cell_type": "heading",
     "level": 1,
     "metadata": {},
     "source": [
      "Sex proportion comparison"
     ]
    },
    {
     "cell_type": "code",
     "collapsed": false,
     "input": [
      "sexTable = allData[['group','sex']]\n",
      "%R -i sexTable\n",
      "%R print(prop.test(table(sexTable$group,sexTable$sex),correct=FALSE))"
     ],
     "language": "python",
     "metadata": {},
     "outputs": [
      {
       "metadata": {},
       "output_type": "display_data",
       "text": [
        "\n",
        "\t2-sample test for equality of proportions without continuity\n",
        "\tcorrection\n",
        "\n",
        "data:  table(sexTable$group, sexTable$sex)\n",
        "X-squared = 0.2716, df = 1, p-value = 0.6022\n",
        "alternative hypothesis: two.sided\n",
        "95 percent confidence interval:\n",
        " -0.1577230  0.2712365\n",
        "sample estimates:\n",
        "   prop 1    prop 2 \n",
        "0.7567568 0.7000000 \n",
        "\n"
       ]
      }
     ],
     "prompt_number": 291
    },
    {
     "cell_type": "heading",
     "level": 1,
     "metadata": {},
     "source": [
      "** Handedness proportion comparison"
     ]
    },
    {
     "cell_type": "heading",
     "level": 4,
     "metadata": {},
     "source": [
      "3 = \uc591\uc190\uc7a1\uc774\n",
      "<br>\n",
      "Comparison without '3'"
     ]
    },
    {
     "cell_type": "code",
     "collapsed": false,
     "input": [
      "handTable = allData[['group','Hand']][allData['Hand']!=3]"
     ],
     "language": "python",
     "metadata": {},
     "outputs": [],
     "prompt_number": 135
    },
    {
     "cell_type": "code",
     "collapsed": false,
     "input": [
      "%%R -i handTable\n",
      "print(prop.test(table(handTable$group,handTable$Hand),correct=FALSE))"
     ],
     "language": "python",
     "metadata": {},
     "outputs": [
      {
       "metadata": {},
       "output_type": "display_data",
       "text": [
        "\n",
        "\t2-sample test for equality of proportions without continuity\n",
        "\tcorrection\n",
        "\n",
        "data:  table(handTable$group, handTable$Hand)\n",
        "X-squared = 1.9471, df = 1, p-value = 0.1629\n",
        "alternative hypothesis: two.sided\n",
        "95 percent confidence interval:\n",
        " -0.06087673  0.31087673\n",
        "sample estimates:\n",
        "   prop 1    prop 2 \n",
        "0.9166667 0.7916667 \n",
        "\n"
       ]
      }
     ],
     "prompt_number": 136
    },
    {
     "cell_type": "heading",
     "level": 1,
     "metadata": {},
     "source": [
      "** Parental SES"
     ]
    },
    {
     "cell_type": "code",
     "collapsed": false,
     "input": [
      "allData.groupby('group')[['parentalSES']].describe().T"
     ],
     "language": "python",
     "metadata": {},
     "outputs": [
      {
       "html": [
        "<div style=\"max-height:1000px;max-width:1500px;overflow:auto;\">\n",
        "<table border=\"1\" class=\"dataframe\">\n",
        "  <thead>\n",
        "    <tr>\n",
        "      <th>group</th>\n",
        "      <th colspan=\"8\" halign=\"left\">1</th>\n",
        "      <th colspan=\"8\" halign=\"left\">2</th>\n",
        "    </tr>\n",
        "    <tr>\n",
        "      <th></th>\n",
        "      <th>count</th>\n",
        "      <th>mean</th>\n",
        "      <th>std</th>\n",
        "      <th>min</th>\n",
        "      <th>25%</th>\n",
        "      <th>50%</th>\n",
        "      <th>75%</th>\n",
        "      <th>max</th>\n",
        "      <th>count</th>\n",
        "      <th>mean</th>\n",
        "      <th>std</th>\n",
        "      <th>min</th>\n",
        "      <th>25%</th>\n",
        "      <th>50%</th>\n",
        "      <th>75%</th>\n",
        "      <th>max</th>\n",
        "    </tr>\n",
        "  </thead>\n",
        "  <tbody>\n",
        "    <tr>\n",
        "      <th>parentalSES</th>\n",
        "      <td> 37</td>\n",
        "      <td> 2.621622</td>\n",
        "      <td> 0.758337</td>\n",
        "      <td> 1</td>\n",
        "      <td> 2</td>\n",
        "      <td> 3</td>\n",
        "      <td> 3</td>\n",
        "      <td> 5</td>\n",
        "      <td> 25</td>\n",
        "      <td> 3.16</td>\n",
        "      <td> 1.067708</td>\n",
        "      <td> 2</td>\n",
        "      <td> 2</td>\n",
        "      <td> 3</td>\n",
        "      <td> 4</td>\n",
        "      <td> 5</td>\n",
        "    </tr>\n",
        "  </tbody>\n",
        "</table>\n",
        "</div>"
       ],
       "metadata": {},
       "output_type": "pyout",
       "prompt_number": 121,
       "text": [
        "group            1                                                   2        \\\n",
        "             count      mean       std  min  25%  50%  75%  max  count  mean   \n",
        "parentalSES     37  2.621622  0.758337    1    2    3    3    5     25  3.16   \n",
        "\n",
        "group                                           \n",
        "                  std  min  25%  50%  75%  max  \n",
        "parentalSES  1.067708    2    2    3    4    5  "
       ]
      }
     ],
     "prompt_number": 121
    },
    {
     "cell_type": "code",
     "collapsed": false,
     "input": [
      "draw(allData,'parentalSES')"
     ],
     "language": "python",
     "metadata": {},
     "outputs": [
      {
       "metadata": {},
       "output_type": "display_data",
       "png": "[encoded data removed]",
       "text": [
        "<matplotlib.figure.Figure at 0x113572dd0>"
       ]
      },
      {
       "metadata": {},
       "output_type": "display_data",
       "png": "[encoded data removed]",
       "text": [
        "<matplotlib.figure.Figure at 0x118fafe50>"
       ]
      }
     ],
     "prompt_number": 231
    },
    {
     "cell_type": "code",
     "collapsed": false,
     "input": [
      "twoSample = stats.ttest_ind(conTable[['parentalSES']],spdTable[['parentalSES']])\n",
      "print 'The t-statistic is %.3f and the p-value is %.3f.' % twoSample"
     ],
     "language": "python",
     "metadata": {},
     "outputs": [
      {
       "output_type": "stream",
       "stream": "stdout",
       "text": [
        "The t-statistic is -2.241 and the p-value is 0.028.\n"
       ]
      }
     ],
     "prompt_number": 122
    },
    {
     "cell_type": "heading",
     "level": 1,
     "metadata": {},
     "source": [
      "SES"
     ]
    },
    {
     "cell_type": "code",
     "collapsed": false,
     "input": [
      "allData.groupby('group')[['SES']].describe().T"
     ],
     "language": "python",
     "metadata": {},
     "outputs": [
      {
       "html": [
        "<div style=\"max-height:1000px;max-width:1500px;overflow:auto;\">\n",
        "<table border=\"1\" class=\"dataframe\">\n",
        "  <thead>\n",
        "    <tr>\n",
        "      <th>group</th>\n",
        "      <th colspan=\"8\" halign=\"left\">1</th>\n",
        "      <th colspan=\"8\" halign=\"left\">2</th>\n",
        "    </tr>\n",
        "    <tr>\n",
        "      <th></th>\n",
        "      <th>count</th>\n",
        "      <th>mean</th>\n",
        "      <th>std</th>\n",
        "      <th>min</th>\n",
        "      <th>25%</th>\n",
        "      <th>50%</th>\n",
        "      <th>75%</th>\n",
        "      <th>max</th>\n",
        "      <th>count</th>\n",
        "      <th>mean</th>\n",
        "      <th>std</th>\n",
        "      <th>min</th>\n",
        "      <th>25%</th>\n",
        "      <th>50%</th>\n",
        "      <th>75%</th>\n",
        "      <th>max</th>\n",
        "    </tr>\n",
        "  </thead>\n",
        "  <tbody>\n",
        "    <tr>\n",
        "      <th>SES</th>\n",
        "      <td> 37</td>\n",
        "      <td> 2.756757</td>\n",
        "      <td> 0.722857</td>\n",
        "      <td> 2</td>\n",
        "      <td> 2</td>\n",
        "      <td> 3</td>\n",
        "      <td> 3</td>\n",
        "      <td> 4</td>\n",
        "      <td> 25</td>\n",
        "      <td> 2.84</td>\n",
        "      <td> 0.986577</td>\n",
        "      <td> 1</td>\n",
        "      <td> 2</td>\n",
        "      <td> 3</td>\n",
        "      <td> 4</td>\n",
        "      <td> 5</td>\n",
        "    </tr>\n",
        "  </tbody>\n",
        "</table>\n",
        "</div>"
       ],
       "metadata": {},
       "output_type": "pyout",
       "prompt_number": 123,
       "text": [
        "group      1                                                   2        \\\n",
        "       count      mean       std  min  25%  50%  75%  max  count  mean   \n",
        "SES       37  2.756757  0.722857    2    2    3    3    4     25  2.84   \n",
        "\n",
        "group                                     \n",
        "            std  min  25%  50%  75%  max  \n",
        "SES    0.986577    1    2    3    4    5  "
       ]
      }
     ],
     "prompt_number": 123
    },
    {
     "cell_type": "code",
     "collapsed": false,
     "input": [
      "draw(allData,'SES')"
     ],
     "language": "python",
     "metadata": {},
     "outputs": [
      {
       "metadata": {},
       "output_type": "display_data",
       "png": "[encoded data removed]",
       "text": [
        "<matplotlib.figure.Figure at 0x111f2d250>"
       ]
      },
      {
       "metadata": {},
       "output_type": "display_data",
       "png": "[encoded data removed]",
       "text": [
        "<matplotlib.figure.Figure at 0x118fd0b50>"
       ]
      }
     ],
     "prompt_number": 281
    },
    {
     "cell_type": "code",
     "collapsed": false,
     "input": [
      "twoSample = stats.ttest_ind(conTable[['SES']],spdTable[['SES']])\n",
      "print 'The t-statistic is %.3f and the p-value is %.3f.' % twoSample"
     ],
     "language": "python",
     "metadata": {},
     "outputs": [
      {
       "output_type": "stream",
       "stream": "stdout",
       "text": [
        "The t-statistic is -0.215 and the p-value is 0.831.\n"
       ]
      }
     ],
     "prompt_number": 124
    }
   ],
   "metadata": {}
  }
 ]
}