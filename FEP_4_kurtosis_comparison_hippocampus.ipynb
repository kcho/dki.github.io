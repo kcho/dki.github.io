{
 "metadata": {
  "name": ""
 },
 "nbformat": 3,
 "nbformat_minor": 0,
 "worksheets": [
  {
   "cells": [
    {
     "cell_type": "heading",
     "level": 1,
     "metadata": {},
     "source": [
      "Hippocampus comparison"
     ]
    },
    {
     "cell_type": "heading",
     "level": 2,
     "metadata": {},
     "source": [
      "Summary"
     ]
    },
    {
     "cell_type": "markdown",
     "metadata": {},
     "source": [
      "There are \n",
      "\n",
      "- significant changes in the volume of the left and right Hippocampus\n",
      "- but no changes in the kurtosis and diffusivity"
     ]
    },
    {
     "cell_type": "heading",
     "level": 2,
     "metadata": {},
     "source": [
      "Loading libraries"
     ]
    },
    {
     "cell_type": "code",
     "collapsed": false,
     "input": [
      "from IPython.display import Image\n",
      "from IPython.display import HTML\n",
      "import os\n",
      "import pandas as pd\n",
      "import re\n",
      "from rpy2.robjects.lib import ggplot2\n",
      "import matplotlib.pyplot as plt\n",
      "import seaborn as sns\n",
      "from scipy import stats\n",
      "from ggplot import *\n",
      "\n",
      "pd.set_option('max_rows',10000)\n",
      "pd.set_option('max_columns',10000)\n",
      "pd.options.display.mpl_style = 'default'\n",
      "\n",
      "%load_ext rmagic\n",
      "\n",
      "%R require(ggplot2)\n",
      "\n",
      "#stats\n",
      "from statsmodels.formula.api import ols\n",
      "from statsmodels.stats.anova import anova_lm"
     ],
     "language": "python",
     "metadata": {},
     "outputs": [
      {
       "output_type": "stream",
       "stream": "stdout",
       "text": [
        "The rmagic extension is already loaded. To reload it, use:\n",
        "  %reload_ext rmagic\n"
       ]
      }
     ],
     "prompt_number": 102
    },
    {
     "cell_type": "heading",
     "level": 2,
     "metadata": {},
     "source": [
      "Load data"
     ]
    },
    {
     "cell_type": "code",
     "collapsed": false,
     "input": [
      "selectMean= pd.read_csv(\"/Users/admin/Dropbox/project/DKI_2014/scripts/meanKurtosisDf_FEP37_HCs36.csv\")"
     ],
     "language": "python",
     "metadata": {},
     "outputs": [],
     "prompt_number": 103
    },
    {
     "cell_type": "code",
     "collapsed": false,
     "input": [
      "pd.crosstab(selectMean.group,selectMean.ROI)[[x for x in selectMean.ROI.unique() if 'ippo' in x]]"
     ],
     "language": "python",
     "metadata": {},
     "outputs": [
      {
       "html": [
        "<div style=\"max-height:1000px;max-width:1500px;overflow:auto;\">\n",
        "<table border=\"1\" class=\"dataframe\">\n",
        "  <thead>\n",
        "    <tr style=\"text-align: right;\">\n",
        "      <th>ROI</th>\n",
        "      <th>ctx-lh-parahippocampal.nii.gz</th>\n",
        "      <th>Left-Hippocampus.nii.gz</th>\n",
        "      <th>ctx-rh-parahippocampal.nii.gz</th>\n",
        "      <th>Right-Hippocampus.nii.gz</th>\n",
        "    </tr>\n",
        "    <tr>\n",
        "      <th>group</th>\n",
        "      <th></th>\n",
        "      <th></th>\n",
        "      <th></th>\n",
        "      <th></th>\n",
        "    </tr>\n",
        "  </thead>\n",
        "  <tbody>\n",
        "    <tr>\n",
        "      <th>FEP</th>\n",
        "      <td> 37</td>\n",
        "      <td> 37</td>\n",
        "      <td> 37</td>\n",
        "      <td> 37</td>\n",
        "    </tr>\n",
        "    <tr>\n",
        "      <th>HCs</th>\n",
        "      <td> 36</td>\n",
        "      <td> 36</td>\n",
        "      <td> 36</td>\n",
        "      <td> 36</td>\n",
        "    </tr>\n",
        "  </tbody>\n",
        "</table>\n",
        "</div>"
       ],
       "metadata": {},
       "output_type": "pyout",
       "prompt_number": 104,
       "text": [
        "ROI    ctx-lh-parahippocampal.nii.gz  Left-Hippocampus.nii.gz  \\\n",
        "group                                                           \n",
        "FEP                               37                       37   \n",
        "HCs                               36                       36   \n",
        "\n",
        "ROI    ctx-rh-parahippocampal.nii.gz  Right-Hippocampus.nii.gz  \n",
        "group                                                           \n",
        "FEP                               37                        37  \n",
        "HCs                               36                        36  "
       ]
      }
     ],
     "prompt_number": 104
    },
    {
     "cell_type": "code",
     "collapsed": false,
     "input": [
      "meanDf = pd.read_csv('/Users/admin/Dropbox/project/DKI_2014/scripts/meanDf.csv')\n",
      "axialDf = pd.read_csv('/Users/admin/Dropbox/project/DKI_2014/scripts/axialDf.csv')\n",
      "radialDf = pd.read_csv('/Users/admin/Dropbox/project/DKI_2014/scripts/radialDf.csv')"
     ],
     "language": "python",
     "metadata": {},
     "outputs": [],
     "prompt_number": 115
    },
    {
     "cell_type": "code",
     "collapsed": false,
     "input": [
      "'lh_TC.nii.gz' in meanDf.ROI.unique()"
     ],
     "language": "python",
     "metadata": {},
     "outputs": [
      {
       "metadata": {},
       "output_type": "pyout",
       "prompt_number": 116,
       "text": [
        "False"
       ]
      }
     ],
     "prompt_number": 116
    },
    {
     "cell_type": "heading",
     "level": 2,
     "metadata": {},
     "source": [
      "Comparison function"
     ]
    },
    {
     "cell_type": "code",
     "collapsed": false,
     "input": [
      "def compare(df,ROI,toCompare):\n",
      "    \n",
      "#    df = meanDf[meanDf.ROI=='dki_Left-Hippocampus.nii.gz']\n",
      "#    df.groupby('group').describe().T\n",
      "\n",
      "    newDf = df[df['ROI']==ROI]\n",
      "    \n",
      "    mean = newDf[toCompare]\n",
      "    GROUP = newDf['group']\n",
      "\n",
      "    formula = '{0} ~ GROUP'.format(toCompare)\n",
      "\n",
      "    lm = ols(formula, newDf).fit()\n",
      "\n",
      "    try:\n",
      "        output=anova_lm(lm)\n",
      "#        if output.ix['GROUP','PR(>F)'] < 0.05:\n",
      "        if output.ix['GROUP','PR(>F)']:\n",
      "            \n",
      "            count = pd.crosstab(newDf.group,newDf.index.sum())\n",
      " \n",
      "            \n",
      "            count.columns=['count']\n",
      "            print(count)\n",
      "            print\n",
      "            \n",
      "            print '{0} \\t\\t {1}~GROUP'.format(ROI,toCompare)\n",
      "            print '========='\n",
      "            print output\n",
      "            print '\\n\\n\\n'\n",
      "            #display(newDf.groupby('group').describe().T.applymap(lambda x: round(x,1)))\n",
      "     \n",
      "            name = ROI[4:-7]\n",
      "     \n",
      "            fig, axes = plt.subplots(figsize=(8,8))\n",
      "            ax1 = plt.subplot2grid((1,1), (0,0))\n",
      "            df = selectMean[selectMean['ROI']==ROI]\n",
      "            #display(sns.boxplot(df['kurtosis'],df.group,ax=ax1)\n",
      "            sns.boxplot(df['kurtosis'],df.group,ax=ax1)\n",
      "            try:\n",
      "                roiName = re.search('h-(.*)\\.nii\\.gz',ROI).group(1)\n",
      "                side = re.search('(rh|lh)-',ROI).group(1)#.map({'rh':'Right','lh':'Left'})\n",
      "            except:\n",
      "                search = re.search('(Left|Right)-(.*)\\.nii\\.gz',ROI)\n",
      "                roiName = search.group(2)\n",
      "                side = search.group(1)\n",
      "                            \n",
      "            title = roiName[0].upper()+roiName[1:]\n",
      "            ax1.set_title('{0} {1} {2}'.format(side.upper(),title,toCompare))\n",
      "            \n",
      "            show()\n",
      "            \n",
      "    except:\n",
      "        print 'error'\n",
      "    return newDf"
     ],
     "language": "python",
     "metadata": {},
     "outputs": [],
     "prompt_number": 107
    },
    {
     "cell_type": "heading",
     "level": 2,
     "metadata": {},
     "source": [
      "Volume"
     ]
    },
    {
     "cell_type": "code",
     "collapsed": false,
     "input": [
      "leftHippocampusDf = compare(selectMean,'Left-Hippocampus.nii.gz','volume')"
     ],
     "language": "python",
     "metadata": {},
     "outputs": [
      {
       "output_type": "stream",
       "stream": "stdout",
       "text": [
        "       count\n",
        "group       \n",
        "FEP       37\n",
        "HCs       36\n",
        "\n",
        "Left-Hippocampus.nii.gz \t\t volume~GROUP\n",
        "=========\n",
        "          df           sum_sq         mean_sq         F    PR(>F)\n",
        "GROUP      1   1222203.918559  1222203.918559  6.492451  0.012999\n",
        "Residual  71  13365749.999249   188249.999989       NaN       NaN\n",
        "\n",
        "\n",
        "\n",
        "\n"
       ]
      },
      {
       "metadata": {},
       "output_type": "display_data",
       "png": "[encoded data removed]",
       "text": [
        "<matplotlib.figure.Figure at 0x117ec24d0>"
       ]
      }
     ],
     "prompt_number": 9
    },
    {
     "cell_type": "code",
     "collapsed": false,
     "input": [
      "leftHippocampusDf = compare(selectMean,'Right-Hippocampus.nii.gz','volume')"
     ],
     "language": "python",
     "metadata": {},
     "outputs": [
      {
       "output_type": "stream",
       "stream": "stdout",
       "text": [
        "       count\n",
        "group       \n",
        "FEP       37\n",
        "HCs       36\n",
        "\n",
        "Right-Hippocampus.nii.gz \t\t volume~GROUP\n",
        "=========\n",
        "          df           sum_sq         mean_sq         F    PR(>F)\n",
        "GROUP      1   1105571.597721  1105571.597721  5.508198  0.021721\n",
        "Residual  71  14250683.744745   200713.855560       NaN       NaN\n",
        "\n",
        "\n",
        "\n",
        "\n"
       ]
      },
      {
       "metadata": {},
       "output_type": "display_data",
       "png": "[encoded data removed]",
       "text": [
        "<matplotlib.figure.Figure at 0x118858ad0>"
       ]
      }
     ],
     "prompt_number": 10
    },
    {
     "cell_type": "heading",
     "level": 2,
     "metadata": {},
     "source": [
      "Kurtosis"
     ]
    },
    {
     "cell_type": "heading",
     "level": 3,
     "metadata": {},
     "source": [
      "Without covariates"
     ]
    },
    {
     "cell_type": "code",
     "collapsed": false,
     "input": [
      "leftHippocampusDf = compare(selectMean,'Left-Hippocampus.nii.gz','kurtosis')"
     ],
     "language": "python",
     "metadata": {},
     "outputs": [
      {
       "output_type": "stream",
       "stream": "stdout",
       "text": [
        "       count\n",
        "group       \n",
        "FEP       37\n",
        "HCs       36\n",
        "\n",
        "Left-Hippocampus.nii.gz \t\t kurtosis~GROUP\n",
        "=========\n",
        "          df    sum_sq   mean_sq         F    PR(>F)\n",
        "GROUP      1  0.000789  0.000789  0.284999  0.595111\n",
        "Residual  71  0.196550  0.002768       NaN       NaN\n",
        "\n",
        "\n",
        "\n",
        "\n"
       ]
      },
      {
       "metadata": {},
       "output_type": "display_data",
       "png": "[encoded data removed]",
       "text": [
        "<matplotlib.figure.Figure at 0x118847710>"
       ]
      }
     ],
     "prompt_number": 11
    },
    {
     "cell_type": "code",
     "collapsed": false,
     "input": [
      "leftHippocampusDf = compare(selectMean,'Right-Hippocampus.nii.gz','kurtosis')"
     ],
     "language": "python",
     "metadata": {},
     "outputs": [
      {
       "output_type": "stream",
       "stream": "stdout",
       "text": [
        "       count\n",
        "group       \n",
        "FEP       37\n",
        "HCs       36\n",
        "\n",
        "Right-Hippocampus.nii.gz \t\t kurtosis~GROUP\n",
        "=========\n",
        "          df    sum_sq   mean_sq         F    PR(>F)\n",
        "GROUP      1  0.000096  0.000096  0.035752  0.850567\n",
        "Residual  71  0.190290  0.002680       NaN       NaN\n",
        "\n",
        "\n",
        "\n",
        "\n"
       ]
      },
      {
       "metadata": {},
       "output_type": "display_data",
       "png": "[encoded data removed]",
       "text": [
        "<matplotlib.figure.Figure at 0x11001be50>"
       ]
      }
     ],
     "prompt_number": 21
    },
    {
     "cell_type": "heading",
     "level": 3,
     "metadata": {},
     "source": [
      "With covariates"
     ]
    },
    {
     "cell_type": "code",
     "collapsed": false,
     "input": [
      "newDf = selectMean[selectMean['ROI']=='Left-Hippocampus.nii.gz']\n",
      "GROUP = newDf['group']\n",
      "volume = newDf['volume']\n",
      "\n",
      "formula = 'kurtosis ~ GROUP+volume'\n",
      "lm = ols(formula, newDf).fit()\n",
      "output=anova_lm(lm)\n",
      "print formula\n",
      "print '========='\n",
      "print output"
     ],
     "language": "python",
     "metadata": {},
     "outputs": [
      {
       "output_type": "stream",
       "stream": "stdout",
       "text": [
        "kurtosis ~ GROUP+volume\n",
        "=========\n",
        "          df    sum_sq   mean_sq         F    PR(>F)\n",
        "GROUP      1  0.000789  0.000789  0.292809  0.590144\n",
        "volume     1  0.007937  0.007937  2.945605  0.090534\n",
        "Residual  70  0.188613  0.002694       NaN       NaN\n"
       ]
      }
     ],
     "prompt_number": 28
    },
    {
     "cell_type": "code",
     "collapsed": false,
     "input": [
      "newDf = selectMean[selectMean['ROI']=='Right-Hippocampus.nii.gz']\n",
      "GROUP = newDf['group']\n",
      "volume = newDf['volume']\n",
      "\n",
      "formula = 'kurtosis ~ GROUP+volume'\n",
      "lm = ols(formula, newDf).fit()\n",
      "output=anova_lm(lm)\n",
      "print formula\n",
      "print '========='\n",
      "print output"
     ],
     "language": "python",
     "metadata": {},
     "outputs": [
      {
       "output_type": "stream",
       "stream": "stdout",
       "text": [
        "kurtosis ~ GROUP+volume\n",
        "=========\n",
        "          df    sum_sq   mean_sq         F    PR(>F)\n",
        "GROUP      1  0.000096  0.000096  0.037502  0.847007\n",
        "volume     1  0.011433  0.011433  4.474415  0.037967\n",
        "Residual  70  0.178858  0.002555       NaN       NaN\n"
       ]
      }
     ],
     "prompt_number": 29
    },
    {
     "cell_type": "heading",
     "level": 2,
     "metadata": {},
     "source": [
      "Mean diffusivity"
     ]
    },
    {
     "cell_type": "heading",
     "level": 3,
     "metadata": {},
     "source": [
      "Without covariates"
     ]
    },
    {
     "cell_type": "code",
     "collapsed": false,
     "input": [
      "newDf = selectMean[selectMean.ROI=='Left-Hippocampus.nii.gz']\n",
      "GROUP = newDf['group']\n",
      "\n",
      "formula = 'diffusivity ~ GROUP'\n",
      "lm = ols(formula, newDf).fit()\n",
      "output=anova_lm(lm)\n",
      "print formula\n",
      "print '========='\n",
      "print output"
     ],
     "language": "python",
     "metadata": {},
     "outputs": [
      {
       "output_type": "stream",
       "stream": "stdout",
       "text": [
        "diffusivity ~ GROUP\n",
        "=========\n",
        "          df    sum_sq   mean_sq         F    PR(>F)\n",
        "GROUP      1  0.007206  0.007206  0.796088  0.375279\n",
        "Residual  71  0.642640  0.009051       NaN       NaN\n"
       ]
      }
     ],
     "prompt_number": 12
    },
    {
     "cell_type": "code",
     "collapsed": false,
     "input": [
      "newDf = selectMean[selectMean.ROI=='Right-Hippocampus.nii.gz']\n",
      "GROUP = newDf['group']\n",
      "\n",
      "formula = 'diffusivity ~ GROUP'\n",
      "lm = ols(formula, newDf).fit()\n",
      "output=anova_lm(lm)\n",
      "print formula\n",
      "print '========='\n",
      "print output"
     ],
     "language": "python",
     "metadata": {},
     "outputs": [
      {
       "output_type": "stream",
       "stream": "stdout",
       "text": [
        "diffusivity ~ GROUP\n",
        "=========\n",
        "          df    sum_sq   mean_sq         F    PR(>F)\n",
        "GROUP      1  0.001995  0.001995  0.251584  0.617513\n",
        "Residual  71  0.562953  0.007929       NaN       NaN\n"
       ]
      }
     ],
     "prompt_number": 13
    },
    {
     "cell_type": "heading",
     "level": 3,
     "metadata": {},
     "source": [
      "With covariates"
     ]
    },
    {
     "cell_type": "code",
     "collapsed": false,
     "input": [
      "newDf = selectMean[selectMean.ROI=='Left-Hippocampus.nii.gz']\n",
      "GROUP = newDf['group']\n",
      "\n",
      "formula = 'diffusivity ~ GROUP+volume'\n",
      "lm = ols(formula, newDf).fit()\n",
      "output=anova_lm(lm)\n",
      "print formula\n",
      "print '========='\n",
      "print output"
     ],
     "language": "python",
     "metadata": {},
     "outputs": [
      {
       "output_type": "stream",
       "stream": "stdout",
       "text": [
        "diffusivity ~ GROUP+volume\n",
        "=========\n",
        "          df    sum_sq   mean_sq         F    PR(>F)\n",
        "GROUP      1  0.007206  0.007206  0.816181  0.369398\n",
        "volume     1  0.024649  0.024649  2.791992  0.099202\n",
        "Residual  70  0.617991  0.008828       NaN       NaN\n"
       ]
      }
     ],
     "prompt_number": 14
    },
    {
     "cell_type": "code",
     "collapsed": false,
     "input": [
      "newDf = selectMean[selectMean.ROI=='Right-Hippocampus.nii.gz']\n",
      "GROUP = newDf['group']\n",
      "\n",
      "formula = 'diffusivity ~ GROUP+volume'\n",
      "lm = ols(formula, newDf).fit()\n",
      "output=anova_lm(lm)\n",
      "print formula\n",
      "print '========='\n",
      "print output"
     ],
     "language": "python",
     "metadata": {},
     "outputs": [
      {
       "output_type": "stream",
       "stream": "stdout",
       "text": [
        "diffusivity ~ GROUP+volume\n",
        "=========\n",
        "          df    sum_sq   mean_sq         F    PR(>F)\n",
        "GROUP      1  0.001995  0.001995  0.265159  0.608220\n",
        "volume     1  0.036342  0.036342  4.830748  0.031266\n",
        "Residual  70  0.526611  0.007523       NaN       NaN\n"
       ]
      }
     ],
     "prompt_number": 15
    },
    {
     "cell_type": "heading",
     "level": 1,
     "metadata": {},
     "source": [
      "Temporal cortex"
     ]
    },
    {
     "cell_type": "code",
     "collapsed": false,
     "input": [
      "'lh_TC.nii.gz' in selectMean.ROI.unique()"
     ],
     "language": "python",
     "metadata": {},
     "outputs": [
      {
       "metadata": {},
       "output_type": "pyout",
       "prompt_number": 110,
       "text": [
        "False"
       ]
      }
     ],
     "prompt_number": 110
    }
   ],
   "metadata": {}
  }
 ]
}